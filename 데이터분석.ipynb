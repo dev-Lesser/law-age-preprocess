{
 "cells": [
  {
   "cell_type": "code",
   "execution_count": 15,
   "metadata": {},
   "outputs": [],
   "source": [
    "import pandas as pd\n",
    "import re\n",
    "from glob import glob\n",
    "from tqdm.notebook import tqdm"
   ]
  },
  {
   "cell_type": "code",
   "execution_count": 2,
   "metadata": {},
   "outputs": [],
   "source": [
    "files = glob('./data/*.csv')"
   ]
  },
  {
   "cell_type": "code",
   "execution_count": 3,
   "metadata": {},
   "outputs": [],
   "source": [
    "result = pd.DataFrame(columns=['title','contents'])\n",
    "for ifile in files:\n",
    "    df = pd.read_csv(ifile)\n",
    "    result = pd.concat([result,df], axis=0)"
   ]
  },
  {
   "cell_type": "code",
   "execution_count": 4,
   "metadata": {},
   "outputs": [
    {
     "data": {
      "text/html": [
       "<div>\n",
       "<style scoped>\n",
       "    .dataframe tbody tr th:only-of-type {\n",
       "        vertical-align: middle;\n",
       "    }\n",
       "\n",
       "    .dataframe tbody tr th {\n",
       "        vertical-align: top;\n",
       "    }\n",
       "\n",
       "    .dataframe thead th {\n",
       "        text-align: right;\n",
       "    }\n",
       "</style>\n",
       "<table border=\"1\" class=\"dataframe\">\n",
       "  <thead>\n",
       "    <tr style=\"text-align: right;\">\n",
       "      <th></th>\n",
       "      <th>title</th>\n",
       "      <th>contents</th>\n",
       "    </tr>\n",
       "  </thead>\n",
       "  <tbody>\n",
       "    <tr>\n",
       "      <th>0</th>\n",
       "      <td>\\n\\t\\t\\t\\t정부조직법\\n\\t\\t\\t\\t\\n\\t\\t\\t</td>\n",
       "      <td>제1조(목적)  이 법은 국가행정사무의 체계적이고 능률적인 수행을 위하여 국가행정기...</td>\n",
       "    </tr>\n",
       "    <tr>\n",
       "      <th>1</th>\n",
       "      <td>\\n\\t\\t\\t\\t학교시설사업 촉진법\\n\\t\\t\\t\\t\\n\\t\\t\\t</td>\n",
       "      <td>제1조(목적) 이 법은 초등학교ㆍ중학교ㆍ고등학교 및 특수학교의 시설의 설치ㆍ이전 및...</td>\n",
       "    </tr>\n",
       "    <tr>\n",
       "      <th>2</th>\n",
       "      <td>\\n\\t\\t\\t\\t공공차관의도입및관리에관한법률시행규칙\\n\\t\\t\\t\\t</td>\n",
       "      <td>제1조(목적) 이 규칙은 공공차관의도입및관리에관한법률 및 동법시행령에서 위임된 사항...</td>\n",
       "    </tr>\n",
       "    <tr>\n",
       "      <th>3</th>\n",
       "      <td>\\n\\t\\t\\t\\t사법정책자문위원회 규칙\\n\\t\\t\\t\\t\\n\\t\\t\\t</td>\n",
       "      <td>제1조 (목적) 이 규칙은 법원조직법 제25조에 규정된 사법정책자문위원회(이하 ‘위...</td>\n",
       "    </tr>\n",
       "    <tr>\n",
       "      <th>4</th>\n",
       "      <td>\\n\\t\\t\\t\\t연구실 안전환경 조성에 관한 법률 시행규칙\\n\\t\\t\\t\\t</td>\n",
       "      <td>제1조(목적) 이 규칙은 「연구실 안전환경 조성에 관한 법률」 및 같은 법 시행령에...</td>\n",
       "    </tr>\n",
       "  </tbody>\n",
       "</table>\n",
       "</div>"
      ],
      "text/plain": [
       "                                         title  \\\n",
       "0            \\n\\t\\t\\t\\t정부조직법\\n\\t\\t\\t\\t\\n\\t\\t\\t   \n",
       "1       \\n\\t\\t\\t\\t학교시설사업 촉진법\\n\\t\\t\\t\\t\\n\\t\\t\\t   \n",
       "2      \\n\\t\\t\\t\\t공공차관의도입및관리에관한법률시행규칙\\n\\t\\t\\t\\t   \n",
       "3     \\n\\t\\t\\t\\t사법정책자문위원회 규칙\\n\\t\\t\\t\\t\\n\\t\\t\\t   \n",
       "4  \\n\\t\\t\\t\\t연구실 안전환경 조성에 관한 법률 시행규칙\\n\\t\\t\\t\\t   \n",
       "\n",
       "                                            contents  \n",
       "0  제1조(목적)  이 법은 국가행정사무의 체계적이고 능률적인 수행을 위하여 국가행정기...  \n",
       "1  제1조(목적) 이 법은 초등학교ㆍ중학교ㆍ고등학교 및 특수학교의 시설의 설치ㆍ이전 및...  \n",
       "2  제1조(목적) 이 규칙은 공공차관의도입및관리에관한법률 및 동법시행령에서 위임된 사항...  \n",
       "3  제1조 (목적) 이 규칙은 법원조직법 제25조에 규정된 사법정책자문위원회(이하 ‘위...  \n",
       "4  제1조(목적) 이 규칙은 「연구실 안전환경 조성에 관한 법률」 및 같은 법 시행령에...  "
      ]
     },
     "execution_count": 4,
     "metadata": {},
     "output_type": "execute_result"
    }
   ],
   "source": [
    "result.head()"
   ]
  },
  {
   "cell_type": "markdown",
   "metadata": {},
   "source": [
    "### 조 별로 나누어서 나이 찾기"
   ]
  },
  {
   "cell_type": "markdown",
   "metadata": {},
   "source": [
    "#### title strip"
   ]
  },
  {
   "cell_type": "code",
   "execution_count": 5,
   "metadata": {},
   "outputs": [],
   "source": [
    "result['title'] = result['title'].apply(lambda x : x.strip() )"
   ]
  },
  {
   "cell_type": "code",
   "execution_count": 6,
   "metadata": {},
   "outputs": [],
   "source": [
    "# index reset\n",
    "result = result.reset_index(drop=True)"
   ]
  },
  {
   "cell_type": "code",
   "execution_count": 8,
   "metadata": {},
   "outputs": [
    {
     "data": {
      "text/html": [
       "<div>\n",
       "<style scoped>\n",
       "    .dataframe tbody tr th:only-of-type {\n",
       "        vertical-align: middle;\n",
       "    }\n",
       "\n",
       "    .dataframe tbody tr th {\n",
       "        vertical-align: top;\n",
       "    }\n",
       "\n",
       "    .dataframe thead th {\n",
       "        text-align: right;\n",
       "    }\n",
       "</style>\n",
       "<table border=\"1\" class=\"dataframe\">\n",
       "  <thead>\n",
       "    <tr style=\"text-align: right;\">\n",
       "      <th></th>\n",
       "      <th>title</th>\n",
       "      <th>contents</th>\n",
       "    </tr>\n",
       "  </thead>\n",
       "  <tbody>\n",
       "    <tr>\n",
       "      <th>0</th>\n",
       "      <td>정부조직법</td>\n",
       "      <td>제1조(목적)  이 법은 국가행정사무의 체계적이고 능률적인 수행을 위하여 국가행정기...</td>\n",
       "    </tr>\n",
       "    <tr>\n",
       "      <th>1</th>\n",
       "      <td>학교시설사업 촉진법</td>\n",
       "      <td>제1조(목적) 이 법은 초등학교ㆍ중학교ㆍ고등학교 및 특수학교의 시설의 설치ㆍ이전 및...</td>\n",
       "    </tr>\n",
       "    <tr>\n",
       "      <th>2</th>\n",
       "      <td>공공차관의도입및관리에관한법률시행규칙</td>\n",
       "      <td>제1조(목적) 이 규칙은 공공차관의도입및관리에관한법률 및 동법시행령에서 위임된 사항...</td>\n",
       "    </tr>\n",
       "    <tr>\n",
       "      <th>3</th>\n",
       "      <td>사법정책자문위원회 규칙</td>\n",
       "      <td>제1조 (목적) 이 규칙은 법원조직법 제25조에 규정된 사법정책자문위원회(이하 ‘위...</td>\n",
       "    </tr>\n",
       "    <tr>\n",
       "      <th>4</th>\n",
       "      <td>연구실 안전환경 조성에 관한 법률 시행규칙</td>\n",
       "      <td>제1조(목적) 이 규칙은 「연구실 안전환경 조성에 관한 법률」 및 같은 법 시행령에...</td>\n",
       "    </tr>\n",
       "  </tbody>\n",
       "</table>\n",
       "</div>"
      ],
      "text/plain": [
       "                     title                                           contents\n",
       "0                    정부조직법  제1조(목적)  이 법은 국가행정사무의 체계적이고 능률적인 수행을 위하여 국가행정기...\n",
       "1               학교시설사업 촉진법  제1조(목적) 이 법은 초등학교ㆍ중학교ㆍ고등학교 및 특수학교의 시설의 설치ㆍ이전 및...\n",
       "2      공공차관의도입및관리에관한법률시행규칙  제1조(목적) 이 규칙은 공공차관의도입및관리에관한법률 및 동법시행령에서 위임된 사항...\n",
       "3             사법정책자문위원회 규칙  제1조 (목적) 이 규칙은 법원조직법 제25조에 규정된 사법정책자문위원회(이하 ‘위...\n",
       "4  연구실 안전환경 조성에 관한 법률 시행규칙  제1조(목적) 이 규칙은 「연구실 안전환경 조성에 관한 법률」 및 같은 법 시행령에..."
      ]
     },
     "execution_count": 8,
     "metadata": {},
     "output_type": "execute_result"
    }
   ],
   "source": [
    "result.head()"
   ]
  },
  {
   "cell_type": "markdown",
   "metadata": {},
   "source": [
    "#### title 중복 제거"
   ]
  },
  {
   "cell_type": "code",
   "execution_count": 11,
   "metadata": {},
   "outputs": [
    {
     "data": {
      "text/html": [
       "<div>\n",
       "<style scoped>\n",
       "    .dataframe tbody tr th:only-of-type {\n",
       "        vertical-align: middle;\n",
       "    }\n",
       "\n",
       "    .dataframe tbody tr th {\n",
       "        vertical-align: top;\n",
       "    }\n",
       "\n",
       "    .dataframe thead th {\n",
       "        text-align: right;\n",
       "    }\n",
       "</style>\n",
       "<table border=\"1\" class=\"dataframe\">\n",
       "  <thead>\n",
       "    <tr style=\"text-align: right;\">\n",
       "      <th></th>\n",
       "      <th>title</th>\n",
       "      <th>contents</th>\n",
       "    </tr>\n",
       "  </thead>\n",
       "  <tbody>\n",
       "    <tr>\n",
       "      <th>0</th>\n",
       "      <td>정부조직법</td>\n",
       "      <td>제1조(목적)  이 법은 국가행정사무의 체계적이고 능률적인 수행을 위하여 국가행정기...</td>\n",
       "    </tr>\n",
       "    <tr>\n",
       "      <th>1</th>\n",
       "      <td>학교시설사업 촉진법</td>\n",
       "      <td>제1조(목적) 이 법은 초등학교ㆍ중학교ㆍ고등학교 및 특수학교의 시설의 설치ㆍ이전 및...</td>\n",
       "    </tr>\n",
       "    <tr>\n",
       "      <th>2</th>\n",
       "      <td>공공차관의도입및관리에관한법률시행규칙</td>\n",
       "      <td>제1조(목적) 이 규칙은 공공차관의도입및관리에관한법률 및 동법시행령에서 위임된 사항...</td>\n",
       "    </tr>\n",
       "    <tr>\n",
       "      <th>3</th>\n",
       "      <td>사법정책자문위원회 규칙</td>\n",
       "      <td>제1조 (목적) 이 규칙은 법원조직법 제25조에 규정된 사법정책자문위원회(이하 ‘위...</td>\n",
       "    </tr>\n",
       "    <tr>\n",
       "      <th>4</th>\n",
       "      <td>연구실 안전환경 조성에 관한 법률 시행규칙</td>\n",
       "      <td>제1조(목적) 이 규칙은 「연구실 안전환경 조성에 관한 법률」 및 같은 법 시행령에...</td>\n",
       "    </tr>\n",
       "    <tr>\n",
       "      <th>...</th>\n",
       "      <td>...</td>\n",
       "      <td>...</td>\n",
       "    </tr>\n",
       "    <tr>\n",
       "      <th>5644</th>\n",
       "      <td>교육환경 보호에 관한 법률 시행령</td>\n",
       "      <td>제1조(목적) 이 영은 「교육환경 보호에 관한 법률」에서 위임된 사항과 그 시행에 ...</td>\n",
       "    </tr>\n",
       "    <tr>\n",
       "      <th>5645</th>\n",
       "      <td>과학기술정보통신부와 그 소속기관 직제</td>\n",
       "      <td>제1조(목적)  이 영은 과학기술정보통신부와 그 소속기관의 조직과 직무범위, 그 밖...</td>\n",
       "    </tr>\n",
       "    <tr>\n",
       "      <th>5646</th>\n",
       "      <td>주식ㆍ사채 등의 전자등록에 관한 법률 시행령</td>\n",
       "      <td>제1조(목적) 이 영은 「주식ㆍ사채 등의 전자등록에 관한 법률」에서 위임된 사항과 ...</td>\n",
       "    </tr>\n",
       "    <tr>\n",
       "      <th>5647</th>\n",
       "      <td>휴직법관에 대한 보수지급에 관한 규칙</td>\n",
       "      <td>제1조(목적 및 적용범위) 이 규칙은 「법원조직법」 제51조제2항의 규정에 의한 휴...</td>\n",
       "    </tr>\n",
       "    <tr>\n",
       "      <th>5648</th>\n",
       "      <td>국립생태원 건립위원회 규정</td>\n",
       "      <td>제1조 (목적) 기후변화를 연구ㆍ교육하고 멸종위기 생물종을 보전하는 기능을 주로 수...</td>\n",
       "    </tr>\n",
       "  </tbody>\n",
       "</table>\n",
       "<p>5058 rows × 2 columns</p>\n",
       "</div>"
      ],
      "text/plain": [
       "                         title  \\\n",
       "0                        정부조직법   \n",
       "1                   학교시설사업 촉진법   \n",
       "2          공공차관의도입및관리에관한법률시행규칙   \n",
       "3                 사법정책자문위원회 규칙   \n",
       "4      연구실 안전환경 조성에 관한 법률 시행규칙   \n",
       "...                        ...   \n",
       "5644        교육환경 보호에 관한 법률 시행령   \n",
       "5645      과학기술정보통신부와 그 소속기관 직제   \n",
       "5646  주식ㆍ사채 등의 전자등록에 관한 법률 시행령   \n",
       "5647      휴직법관에 대한 보수지급에 관한 규칙   \n",
       "5648            국립생태원 건립위원회 규정   \n",
       "\n",
       "                                               contents  \n",
       "0     제1조(목적)  이 법은 국가행정사무의 체계적이고 능률적인 수행을 위하여 국가행정기...  \n",
       "1     제1조(목적) 이 법은 초등학교ㆍ중학교ㆍ고등학교 및 특수학교의 시설의 설치ㆍ이전 및...  \n",
       "2     제1조(목적) 이 규칙은 공공차관의도입및관리에관한법률 및 동법시행령에서 위임된 사항...  \n",
       "3     제1조 (목적) 이 규칙은 법원조직법 제25조에 규정된 사법정책자문위원회(이하 ‘위...  \n",
       "4     제1조(목적) 이 규칙은 「연구실 안전환경 조성에 관한 법률」 및 같은 법 시행령에...  \n",
       "...                                                 ...  \n",
       "5644  제1조(목적) 이 영은 「교육환경 보호에 관한 법률」에서 위임된 사항과 그 시행에 ...  \n",
       "5645  제1조(목적)  이 영은 과학기술정보통신부와 그 소속기관의 조직과 직무범위, 그 밖...  \n",
       "5646  제1조(목적) 이 영은 「주식ㆍ사채 등의 전자등록에 관한 법률」에서 위임된 사항과 ...  \n",
       "5647  제1조(목적 및 적용범위) 이 규칙은 「법원조직법」 제51조제2항의 규정에 의한 휴...  \n",
       "5648  제1조 (목적) 기후변화를 연구ㆍ교육하고 멸종위기 생물종을 보전하는 기능을 주로 수...  \n",
       "\n",
       "[5058 rows x 2 columns]"
      ]
     },
     "execution_count": 11,
     "metadata": {},
     "output_type": "execute_result"
    }
   ],
   "source": [
    "result = result.drop_duplicates(subset='title')\n",
    "result"
   ]
  },
  {
   "cell_type": "code",
   "execution_count": 12,
   "metadata": {},
   "outputs": [
    {
     "data": {
      "text/html": [
       "<div>\n",
       "<style scoped>\n",
       "    .dataframe tbody tr th:only-of-type {\n",
       "        vertical-align: middle;\n",
       "    }\n",
       "\n",
       "    .dataframe tbody tr th {\n",
       "        vertical-align: top;\n",
       "    }\n",
       "\n",
       "    .dataframe thead th {\n",
       "        text-align: right;\n",
       "    }\n",
       "</style>\n",
       "<table border=\"1\" class=\"dataframe\">\n",
       "  <thead>\n",
       "    <tr style=\"text-align: right;\">\n",
       "      <th></th>\n",
       "      <th>contents</th>\n",
       "    </tr>\n",
       "    <tr>\n",
       "      <th>title</th>\n",
       "      <th></th>\n",
       "    </tr>\n",
       "  </thead>\n",
       "  <tbody>\n",
       "    <tr>\n",
       "      <th>정부조직법</th>\n",
       "      <td>제1조(목적)  이 법은 국가행정사무의 체계적이고 능률적인 수행을 위하여 국가행정기...</td>\n",
       "    </tr>\n",
       "    <tr>\n",
       "      <th>학교시설사업 촉진법</th>\n",
       "      <td>제1조(목적) 이 법은 초등학교ㆍ중학교ㆍ고등학교 및 특수학교의 시설의 설치ㆍ이전 및...</td>\n",
       "    </tr>\n",
       "    <tr>\n",
       "      <th>공공차관의도입및관리에관한법률시행규칙</th>\n",
       "      <td>제1조(목적) 이 규칙은 공공차관의도입및관리에관한법률 및 동법시행령에서 위임된 사항...</td>\n",
       "    </tr>\n",
       "    <tr>\n",
       "      <th>사법정책자문위원회 규칙</th>\n",
       "      <td>제1조 (목적) 이 규칙은 법원조직법 제25조에 규정된 사법정책자문위원회(이하 ‘위...</td>\n",
       "    </tr>\n",
       "    <tr>\n",
       "      <th>연구실 안전환경 조성에 관한 법률 시행규칙</th>\n",
       "      <td>제1조(목적) 이 규칙은 「연구실 안전환경 조성에 관한 법률」 및 같은 법 시행령에...</td>\n",
       "    </tr>\n",
       "  </tbody>\n",
       "</table>\n",
       "</div>"
      ],
      "text/plain": [
       "                                                                  contents\n",
       "title                                                                     \n",
       "정부조직법                    제1조(목적)  이 법은 국가행정사무의 체계적이고 능률적인 수행을 위하여 국가행정기...\n",
       "학교시설사업 촉진법               제1조(목적) 이 법은 초등학교ㆍ중학교ㆍ고등학교 및 특수학교의 시설의 설치ㆍ이전 및...\n",
       "공공차관의도입및관리에관한법률시행규칙      제1조(목적) 이 규칙은 공공차관의도입및관리에관한법률 및 동법시행령에서 위임된 사항...\n",
       "사법정책자문위원회 규칙             제1조 (목적) 이 규칙은 법원조직법 제25조에 규정된 사법정책자문위원회(이하 ‘위...\n",
       "연구실 안전환경 조성에 관한 법률 시행규칙  제1조(목적) 이 규칙은 「연구실 안전환경 조성에 관한 법률」 및 같은 법 시행령에..."
      ]
     },
     "execution_count": 12,
     "metadata": {},
     "output_type": "execute_result"
    }
   ],
   "source": [
    "result = result.set_index('title')\n",
    "result.head()"
   ]
  },
  {
   "cell_type": "raw",
   "metadata": {},
   "source": [
    "def find_age_regex(d):\n",
    "    string_pool = d['contents']\n",
    "    l = re.findall(r'[만]*[\\s]*[0-9]+[\\s]*세[^가-힇()][\\s]*[이]?[상하전후내외]?[미]?[만]?[초]?[과]?', string_pool)\n",
    "    return [i.strip() for i in l]\n",
    "result['age'] = result.fillna('').apply(find_age_regex, axis=1)"
   ]
  },
  {
   "cell_type": "code",
   "execution_count": 13,
   "metadata": {},
   "outputs": [
    {
     "data": {
      "text/html": [
       "<div>\n",
       "<style scoped>\n",
       "    .dataframe tbody tr th:only-of-type {\n",
       "        vertical-align: middle;\n",
       "    }\n",
       "\n",
       "    .dataframe tbody tr th {\n",
       "        vertical-align: top;\n",
       "    }\n",
       "\n",
       "    .dataframe thead th {\n",
       "        text-align: right;\n",
       "    }\n",
       "</style>\n",
       "<table border=\"1\" class=\"dataframe\">\n",
       "  <thead>\n",
       "    <tr style=\"text-align: right;\">\n",
       "      <th></th>\n",
       "      <th>contents</th>\n",
       "    </tr>\n",
       "  </thead>\n",
       "  <tbody>\n",
       "    <tr>\n",
       "      <th>count</th>\n",
       "      <td>5033</td>\n",
       "    </tr>\n",
       "    <tr>\n",
       "      <th>unique</th>\n",
       "      <td>5033</td>\n",
       "    </tr>\n",
       "    <tr>\n",
       "      <th>top</th>\n",
       "      <td>제1조(목적) 이 영은 「인터넷주소자원에 관한 법률」에서 위임된 사항과 그 시행에 ...</td>\n",
       "    </tr>\n",
       "    <tr>\n",
       "      <th>freq</th>\n",
       "      <td>1</td>\n",
       "    </tr>\n",
       "  </tbody>\n",
       "</table>\n",
       "</div>"
      ],
      "text/plain": [
       "                                                 contents\n",
       "count                                                5033\n",
       "unique                                               5033\n",
       "top     제1조(목적) 이 영은 「인터넷주소자원에 관한 법률」에서 위임된 사항과 그 시행에 ...\n",
       "freq                                                    1"
      ]
     },
     "execution_count": 13,
     "metadata": {},
     "output_type": "execute_result"
    }
   ],
   "source": [
    "result.describe()"
   ]
  },
  {
   "cell_type": "code",
   "execution_count": 19,
   "metadata": {},
   "outputs": [
    {
     "data": {
      "text/plain": [
       "contents    25\n",
       "dtype: int64"
      ]
     },
     "execution_count": 19,
     "metadata": {},
     "output_type": "execute_result"
    }
   ],
   "source": [
    "result.isnull().sum()"
   ]
  },
  {
   "cell_type": "code",
   "execution_count": 20,
   "metadata": {},
   "outputs": [],
   "source": [
    "result = result.dropna() # 결측치 제거"
   ]
  },
  {
   "cell_type": "code",
   "execution_count": 21,
   "metadata": {},
   "outputs": [
    {
     "data": {
      "text/plain": [
       "5033"
      ]
     },
     "execution_count": 21,
     "metadata": {},
     "output_type": "execute_result"
    }
   ],
   "source": [
    "len(result)"
   ]
  },
  {
   "cell_type": "markdown",
   "metadata": {},
   "source": [
    "#### 나이 후보군 찾기"
   ]
  },
  {
   "cell_type": "code",
   "execution_count": 187,
   "metadata": {},
   "outputs": [
    {
     "data": {
      "application/vnd.jupyter.widget-view+json": {
       "model_id": "2a643435b31f42079ac1ee89bd4f61f6",
       "version_major": 2,
       "version_minor": 0
      },
      "text/plain": [
       "HBox(children=(HTML(value=''), FloatProgress(value=0.0, max=5033.0), HTML(value='')))"
      ]
     },
     "metadata": {},
     "output_type": "display_data"
    },
    {
     "name": "stdout",
     "output_type": "stream",
     "text": [
      "\n"
     ]
    },
    {
     "ename": "IndexError",
     "evalue": "list index out of range",
     "output_type": "error",
     "traceback": [
      "\u001b[1;31m---------------------------------------------------------------------------\u001b[0m",
      "\u001b[1;31mIndexError\u001b[0m                                Traceback (most recent call last)",
      "\u001b[1;32m<ipython-input-187-56b4cad11844>\u001b[0m in \u001b[0;36m<module>\u001b[1;34m\u001b[0m\n\u001b[0;32m     23\u001b[0m                 }, ignore_index=True)\n\u001b[0;32m     24\u001b[0m             \u001b[1;32melse\u001b[0m\u001b[1;33m:\u001b[0m \u001b[1;31m# 조 안에서 여러 줄로 나누어 져 있을때\u001b[0m\u001b[1;33m\u001b[0m\u001b[1;33m\u001b[0m\u001b[0m\n\u001b[1;32m---> 25\u001b[1;33m                 \u001b[0mjo_title\u001b[0m \u001b[1;33m=\u001b[0m \u001b[0mjo_text\u001b[0m\u001b[1;33m[\u001b[0m\u001b[1;36m0\u001b[0m\u001b[1;33m]\u001b[0m\u001b[1;33m\u001b[0m\u001b[1;33m\u001b[0m\u001b[0m\n\u001b[0m\u001b[0;32m     26\u001b[0m                 \u001b[0mjo_contents\u001b[0m \u001b[1;33m=\u001b[0m \u001b[0mre\u001b[0m\u001b[1;33m.\u001b[0m\u001b[0msub\u001b[0m\u001b[1;33m(\u001b[0m\u001b[1;34m'[\\[\\]\\>]'\u001b[0m\u001b[1;33m,\u001b[0m \u001b[1;34m''\u001b[0m\u001b[1;33m,\u001b[0m \u001b[0mtext\u001b[0m\u001b[1;33m)\u001b[0m\u001b[1;33m\u001b[0m\u001b[1;33m\u001b[0m\u001b[0m\n\u001b[0;32m     27\u001b[0m                 \u001b[0mtitle\u001b[0m \u001b[1;33m=\u001b[0m \u001b[0mlaw\u001b[0m\u001b[1;33m\u001b[0m\u001b[1;33m\u001b[0m\u001b[0m\n",
      "\u001b[1;31mIndexError\u001b[0m: list index out of range"
     ]
    }
   ],
   "source": [
    "result_df = pd.DataFrame()\n",
    "cnt = 0\n",
    "for law in tqdm(result.index): # 법령명 하나의\n",
    "    for text in result.loc[law]['contents'].split('.'): # 문장 . 으로 분리 후\n",
    "        \n",
    "        age_find = re.findall(r'[만]*[\\s]*[0-9]+[\\s]*세[^대환제트관임월][\\s]*[이]?[상하전후내외]?[미]?[만]?[초]?[과]?[까]?[지]?[부]?[터]?', text)\n",
    "        if age_find:\n",
    "            jo_text = re.findall(r'제[0-9]+조[의]?[0-9]?\\([가-힇\\s]+\\)', text)\n",
    "            \n",
    "            if jo_text: # 같은 조에 속할때\n",
    "                title = law\n",
    "                jo_title = jo_text[0]\n",
    "                \n",
    "                age_list = [re.sub('[^0-9만세이상하전후내외미만초과까지부터]+', '', i) for i in age_find] # 한 줄 안에 여러 나이가 있을때\n",
    "                jo_contents = re.sub('[\\[\\]\\>]', '', text) \n",
    "                result_df = result_df.append({\n",
    "                    'title':title,\n",
    "                    'jo_title':jo_title,\n",
    "                    'jo_contents': jo_contents,\n",
    "                    'age_list': age_list\n",
    "                }, ignore_index=True)\n",
    "            else: # 조 안에서 여러 줄로 나누어 져 있을때\n",
    "                jo_title = jo_text[0]\n",
    "                jo_contents = re.sub('[\\[\\]\\>]', '', text) \n",
    "                title = law\n",
    "                age_list = [re.sub('[^A-Za-z0-9가-힣]', '', i) for i in age_find] # 한 줄 안에 여러 나이가 있을때\n",
    "                result_df = result_df.append({\n",
    "                    'title':title,\n",
    "                    'jo_title':jo_title,\n",
    "                    'jo_contents': jo_contents,\n",
    "                    'age_list': age_list\n",
    "                }, ignore_index=True)\n"
   ]
  },
  {
   "cell_type": "code",
   "execution_count": 188,
   "metadata": {},
   "outputs": [
    {
     "data": {
      "text/html": [
       "<div>\n",
       "<style scoped>\n",
       "    .dataframe tbody tr th:only-of-type {\n",
       "        vertical-align: middle;\n",
       "    }\n",
       "\n",
       "    .dataframe tbody tr th {\n",
       "        vertical-align: top;\n",
       "    }\n",
       "\n",
       "    .dataframe thead th {\n",
       "        text-align: right;\n",
       "    }\n",
       "</style>\n",
       "<table border=\"1\" class=\"dataframe\">\n",
       "  <thead>\n",
       "    <tr style=\"text-align: right;\">\n",
       "      <th></th>\n",
       "      <th>age_list</th>\n",
       "      <th>jo_contents</th>\n",
       "      <th>jo_title</th>\n",
       "      <th>title</th>\n",
       "    </tr>\n",
       "  </thead>\n",
       "  <tbody>\n",
       "    <tr>\n",
       "      <th>0</th>\n",
       "      <td>[13세이상]</td>\n",
       "      <td>제18조의2(자의 의견의 청취) 가정법원이 미성년자인 자의 친권자 지정, 양육과 ...</td>\n",
       "      <td>제18조의2(자의 의견의 청취)</td>\n",
       "      <td>가사소송규칙</td>\n",
       "    </tr>\n",
       "    <tr>\n",
       "      <th>1</th>\n",
       "      <td>[13세이상]</td>\n",
       "      <td>제59조의2(관계자의 의견의 청취) ① 가정법원은 「민법」 제781조제5항의 규정...</td>\n",
       "      <td>제59조의2(관계자의 의견의 청취)</td>\n",
       "      <td>가사소송규칙</td>\n",
       "    </tr>\n",
       "  </tbody>\n",
       "</table>\n",
       "</div>"
      ],
      "text/plain": [
       "  age_list                                        jo_contents  \\\n",
       "0  [13세이상]   제18조의2(자의 의견의 청취) 가정법원이 미성년자인 자의 친권자 지정, 양육과 ...   \n",
       "1  [13세이상]   제59조의2(관계자의 의견의 청취) ① 가정법원은 「민법」 제781조제5항의 규정...   \n",
       "\n",
       "              jo_title   title  \n",
       "0    제18조의2(자의 의견의 청취)  가사소송규칙  \n",
       "1  제59조의2(관계자의 의견의 청취)  가사소송규칙  "
      ]
     },
     "execution_count": 188,
     "metadata": {},
     "output_type": "execute_result"
    }
   ],
   "source": [
    "result_df"
   ]
  },
  {
   "cell_type": "code",
   "execution_count": 174,
   "metadata": {},
   "outputs": [],
   "source": [
    "def age_norm(d):\n",
    "    d = d['age_list']\n",
    "    for j in d :\n",
    "        if len(j.split('세'))==2 and j.split('세')[-1]!='': \n",
    "            if j.split('세')[-1] not in ['이상','이하','이후','이전','초과','미만','까지', '미만까지','전까지']:\n",
    "                if j.startswith('만'):\n",
    "                    return pd.Series((True,int(j.split('세')[0].split('만')[-1]), False,False))\n",
    "                return pd.Series((False,int(j.split('세')[0]), False,False))\n",
    "            else:\n",
    "                if j.split('세')[-1] in ['이후','초과', '이상', '부터']:\n",
    "                    if j.startswith('만'):\n",
    "                        return pd.Series((True,int(j.split('세')[0].split('만')[-1]), True,False))\n",
    "                    return pd.Series((False,int(j.split('세')[0]), True,False))\n",
    "                else:\n",
    "                    if j.startswith('만'):\n",
    "                        return pd.Series((True, int(j.split('세')[0].split('만')[-1]), False,True))\n",
    "                    return pd.Series((False,int(j.split('세')[0]), True,False))\n",
    "        else:\n",
    "            if j.startswith('만'):\n",
    "                return pd.Series((True,int(j.split('세')[0].split('만')[-1]), False,False))\n",
    "            return pd.Series((False,int(j.split('세')[0]), False,False))"
   ]
  },
  {
   "cell_type": "code",
   "execution_count": 175,
   "metadata": {},
   "outputs": [],
   "source": [
    "result_df[['man_TF','age','gt','lt']] = result_df.apply(age_norm ,axis=1)"
   ]
  },
  {
   "cell_type": "code",
   "execution_count": 176,
   "metadata": {},
   "outputs": [
    {
     "data": {
      "text/html": [
       "<div>\n",
       "<style scoped>\n",
       "    .dataframe tbody tr th:only-of-type {\n",
       "        vertical-align: middle;\n",
       "    }\n",
       "\n",
       "    .dataframe tbody tr th {\n",
       "        vertical-align: top;\n",
       "    }\n",
       "\n",
       "    .dataframe thead th {\n",
       "        text-align: right;\n",
       "    }\n",
       "</style>\n",
       "<table border=\"1\" class=\"dataframe\">\n",
       "  <thead>\n",
       "    <tr style=\"text-align: right;\">\n",
       "      <th></th>\n",
       "      <th>age</th>\n",
       "    </tr>\n",
       "  </thead>\n",
       "  <tbody>\n",
       "    <tr>\n",
       "      <th>count</th>\n",
       "      <td>1389.000000</td>\n",
       "    </tr>\n",
       "    <tr>\n",
       "      <th>mean</th>\n",
       "      <td>32.113751</td>\n",
       "    </tr>\n",
       "    <tr>\n",
       "      <th>std</th>\n",
       "      <td>57.396907</td>\n",
       "    </tr>\n",
       "    <tr>\n",
       "      <th>min</th>\n",
       "      <td>1.000000</td>\n",
       "    </tr>\n",
       "    <tr>\n",
       "      <th>25%</th>\n",
       "      <td>17.000000</td>\n",
       "    </tr>\n",
       "    <tr>\n",
       "      <th>50%</th>\n",
       "      <td>19.000000</td>\n",
       "    </tr>\n",
       "    <tr>\n",
       "      <th>75%</th>\n",
       "      <td>60.000000</td>\n",
       "    </tr>\n",
       "    <tr>\n",
       "      <th>max</th>\n",
       "      <td>2015.000000</td>\n",
       "    </tr>\n",
       "  </tbody>\n",
       "</table>\n",
       "</div>"
      ],
      "text/plain": [
       "               age\n",
       "count  1389.000000\n",
       "mean     32.113751\n",
       "std      57.396907\n",
       "min       1.000000\n",
       "25%      17.000000\n",
       "50%      19.000000\n",
       "75%      60.000000\n",
       "max    2015.000000"
      ]
     },
     "execution_count": 176,
     "metadata": {},
     "output_type": "execute_result"
    }
   ],
   "source": [
    "result_df.describe()"
   ]
  },
  {
   "cell_type": "code",
   "execution_count": 177,
   "metadata": {},
   "outputs": [],
   "source": [
    "result_df = result_df[result_df['age']<100] # 100 이상의 조문들은 삭제"
   ]
  },
  {
   "cell_type": "code",
   "execution_count": 178,
   "metadata": {},
   "outputs": [
    {
     "data": {
      "text/html": [
       "<div>\n",
       "<style scoped>\n",
       "    .dataframe tbody tr th:only-of-type {\n",
       "        vertical-align: middle;\n",
       "    }\n",
       "\n",
       "    .dataframe tbody tr th {\n",
       "        vertical-align: top;\n",
       "    }\n",
       "\n",
       "    .dataframe thead th {\n",
       "        text-align: right;\n",
       "    }\n",
       "</style>\n",
       "<table border=\"1\" class=\"dataframe\">\n",
       "  <thead>\n",
       "    <tr style=\"text-align: right;\">\n",
       "      <th></th>\n",
       "      <th>age</th>\n",
       "    </tr>\n",
       "  </thead>\n",
       "  <tbody>\n",
       "    <tr>\n",
       "      <th>count</th>\n",
       "      <td>1388.000000</td>\n",
       "    </tr>\n",
       "    <tr>\n",
       "      <th>mean</th>\n",
       "      <td>30.685159</td>\n",
       "    </tr>\n",
       "    <tr>\n",
       "      <th>std</th>\n",
       "      <td>21.446659</td>\n",
       "    </tr>\n",
       "    <tr>\n",
       "      <th>min</th>\n",
       "      <td>1.000000</td>\n",
       "    </tr>\n",
       "    <tr>\n",
       "      <th>25%</th>\n",
       "      <td>17.000000</td>\n",
       "    </tr>\n",
       "    <tr>\n",
       "      <th>50%</th>\n",
       "      <td>19.000000</td>\n",
       "    </tr>\n",
       "    <tr>\n",
       "      <th>75%</th>\n",
       "      <td>60.000000</td>\n",
       "    </tr>\n",
       "    <tr>\n",
       "      <th>max</th>\n",
       "      <td>80.000000</td>\n",
       "    </tr>\n",
       "  </tbody>\n",
       "</table>\n",
       "</div>"
      ],
      "text/plain": [
       "               age\n",
       "count  1388.000000\n",
       "mean     30.685159\n",
       "std      21.446659\n",
       "min       1.000000\n",
       "25%      17.000000\n",
       "50%      19.000000\n",
       "75%      60.000000\n",
       "max      80.000000"
      ]
     },
     "execution_count": 178,
     "metadata": {},
     "output_type": "execute_result"
    }
   ],
   "source": [
    "result_df.describe()"
   ]
  },
  {
   "cell_type": "code",
   "execution_count": 181,
   "metadata": {},
   "outputs": [
    {
     "data": {
      "text/html": [
       "<div>\n",
       "<style scoped>\n",
       "    .dataframe tbody tr th:only-of-type {\n",
       "        vertical-align: middle;\n",
       "    }\n",
       "\n",
       "    .dataframe tbody tr th {\n",
       "        vertical-align: top;\n",
       "    }\n",
       "\n",
       "    .dataframe thead th {\n",
       "        text-align: right;\n",
       "    }\n",
       "</style>\n",
       "<table border=\"1\" class=\"dataframe\">\n",
       "  <thead>\n",
       "    <tr style=\"text-align: right;\">\n",
       "      <th></th>\n",
       "      <th>age_list</th>\n",
       "      <th>jo_contents</th>\n",
       "      <th>jo_title</th>\n",
       "      <th>title</th>\n",
       "      <th>man_TF</th>\n",
       "      <th>age</th>\n",
       "      <th>gt</th>\n",
       "      <th>lt</th>\n",
       "    </tr>\n",
       "  </thead>\n",
       "  <tbody>\n",
       "    <tr>\n",
       "      <th>1181</th>\n",
       "      <td>[22세, 23세, 24세]</td>\n",
       "      <td>전문대학 및 「평생교육법」 제31조제4항에 따른 전공대학(이하 “전공대학”이라 한...</td>\n",
       "      <td>제7조(병역준비역 편입자 조사)</td>\n",
       "      <td>병역법 시행령</td>\n",
       "      <td>False</td>\n",
       "      <td>22</td>\n",
       "      <td>False</td>\n",
       "      <td>False</td>\n",
       "    </tr>\n",
       "    <tr>\n",
       "      <th>1076</th>\n",
       "      <td>[18세이상]</td>\n",
       "      <td>고등학교 졸업학력 검정고시는 18세 이상으로 고등학교 교육과정을 이수 중인 사람전...</td>\n",
       "      <td>제12조(보호처분 취소대상자 통지)</td>\n",
       "      <td>보호소년 등의 처우에 관한 법률 시행령</td>\n",
       "      <td>False</td>\n",
       "      <td>18</td>\n",
       "      <td>True</td>\n",
       "      <td>False</td>\n",
       "    </tr>\n",
       "    <tr>\n",
       "      <th>115</th>\n",
       "      <td>[15세미만]</td>\n",
       "      <td>15세 미만인 사람을 군대 또는 무장집단에 징집 또는 모병의 방법으로 참여하도록 ...</td>\n",
       "      <td>제10조의3(생계비등의 범위)</td>\n",
       "      <td>국제형사재판소 관할 범죄의 처벌 등에 관한 법률</td>\n",
       "      <td>False</td>\n",
       "      <td>15</td>\n",
       "      <td>True</td>\n",
       "      <td>False</td>\n",
       "    </tr>\n",
       "    <tr>\n",
       "      <th>1195</th>\n",
       "      <td>[19세미만, 19세로, 65세이상]</td>\n",
       "      <td>19세 미만인 사람, 19세로서 고등학교 이하의 학교에 재학 중인 사람과 65세 ...</td>\n",
       "      <td>제129조의2(산업체 등에 취업한 사람의 병역의무이행일 연기)</td>\n",
       "      <td>병역법 시행령</td>\n",
       "      <td>False</td>\n",
       "      <td>19</td>\n",
       "      <td>True</td>\n",
       "      <td>False</td>\n",
       "    </tr>\n",
       "    <tr>\n",
       "      <th>1375</th>\n",
       "      <td>[19세미만, 19세이상]</td>\n",
       "      <td>본인 및 배우자의 19세 미만의 직계비속 및 19세 이상의 직계비속 중 장애의 정...</td>\n",
       "      <td>제19조(지원절차 등)</td>\n",
       "      <td>법관 및 법원공무원수당 등에 관한 규칙</td>\n",
       "      <td>False</td>\n",
       "      <td>19</td>\n",
       "      <td>True</td>\n",
       "      <td>False</td>\n",
       "    </tr>\n",
       "    <tr>\n",
       "      <th>1322</th>\n",
       "      <td>[14세미만]</td>\n",
       "      <td>제25조(법정대리인의 권리) ①위치정보사업자등이 14세 미만의 아동으로부터 제18...</td>\n",
       "      <td>제25조(법정대리인의 권리)</td>\n",
       "      <td>위치정보의 보호 및 이용 등에 관한 법률</td>\n",
       "      <td>False</td>\n",
       "      <td>14</td>\n",
       "      <td>True</td>\n",
       "      <td>False</td>\n",
       "    </tr>\n",
       "    <tr>\n",
       "      <th>926</th>\n",
       "      <td>[19세가]</td>\n",
       "      <td>대통령령으로 정하는 정도의 장해 상태에 있지 아니한 자녀 또는 손자녀가 19세가 ...</td>\n",
       "      <td>제21조의2(퇴소조치 등)</td>\n",
       "      <td>공무원 재해보상법</td>\n",
       "      <td>False</td>\n",
       "      <td>19</td>\n",
       "      <td>False</td>\n",
       "      <td>False</td>\n",
       "    </tr>\n",
       "    <tr>\n",
       "      <th>476</th>\n",
       "      <td>[15세이상, 18세미만]</td>\n",
       "      <td>⑥ 제3항은 15세 이상 18세 미만의 근로자에 대하여는 적용하지 아니한다</td>\n",
       "      <td>제42조(주민등록증 분실신고 등)</td>\n",
       "      <td>근로기준법</td>\n",
       "      <td>False</td>\n",
       "      <td>15</td>\n",
       "      <td>True</td>\n",
       "      <td>False</td>\n",
       "    </tr>\n",
       "    <tr>\n",
       "      <th>424</th>\n",
       "      <td>[18세미만]</td>\n",
       "      <td>18세 미만의 사람  2</td>\n",
       "      <td>제18조의5(공청회의 개최)</td>\n",
       "      <td>원자력안전법</td>\n",
       "      <td>False</td>\n",
       "      <td>18</td>\n",
       "      <td>True</td>\n",
       "      <td>False</td>\n",
       "    </tr>\n",
       "    <tr>\n",
       "      <th>1359</th>\n",
       "      <td>[30세이하]</td>\n",
       "      <td>다음 각 목의 어느 하나에 해당하는 30세 이하인 사람</td>\n",
       "      <td>제38조의2(공동생활시설의 이용지원 등)</td>\n",
       "      <td>병역법 시행규칙</td>\n",
       "      <td>False</td>\n",
       "      <td>30</td>\n",
       "      <td>True</td>\n",
       "      <td>False</td>\n",
       "    </tr>\n",
       "  </tbody>\n",
       "</table>\n",
       "</div>"
      ],
      "text/plain": [
       "                  age_list                                        jo_contents  \\\n",
       "1181       [22세, 23세, 24세]   전문대학 및 「평생교육법」 제31조제4항에 따른 전공대학(이하 “전공대학”이라 한...   \n",
       "1076               [18세이상]   고등학교 졸업학력 검정고시는 18세 이상으로 고등학교 교육과정을 이수 중인 사람전...   \n",
       "115                [15세미만]   15세 미만인 사람을 군대 또는 무장집단에 징집 또는 모병의 방법으로 참여하도록 ...   \n",
       "1195  [19세미만, 19세로, 65세이상]   19세 미만인 사람, 19세로서 고등학교 이하의 학교에 재학 중인 사람과 65세 ...   \n",
       "1375        [19세미만, 19세이상]   본인 및 배우자의 19세 미만의 직계비속 및 19세 이상의 직계비속 중 장애의 정...   \n",
       "1322               [14세미만]   제25조(법정대리인의 권리) ①위치정보사업자등이 14세 미만의 아동으로부터 제18...   \n",
       "926                 [19세가]   대통령령으로 정하는 정도의 장해 상태에 있지 아니한 자녀 또는 손자녀가 19세가 ...   \n",
       "476         [15세이상, 18세미만]          ⑥ 제3항은 15세 이상 18세 미만의 근로자에 대하여는 적용하지 아니한다   \n",
       "424                [18세미만]                                      18세 미만의 사람  2   \n",
       "1359               [30세이하]                     다음 각 목의 어느 하나에 해당하는 30세 이하인 사람   \n",
       "\n",
       "                                jo_title                       title  man_TF  \\\n",
       "1181                   제7조(병역준비역 편입자 조사)                     병역법 시행령   False   \n",
       "1076                 제12조(보호처분 취소대상자 통지)       보호소년 등의 처우에 관한 법률 시행령   False   \n",
       "115                     제10조의3(생계비등의 범위)  국제형사재판소 관할 범죄의 처벌 등에 관한 법률   False   \n",
       "1195  제129조의2(산업체 등에 취업한 사람의 병역의무이행일 연기)                     병역법 시행령   False   \n",
       "1375                        제19조(지원절차 등)       법관 및 법원공무원수당 등에 관한 규칙   False   \n",
       "1322                     제25조(법정대리인의 권리)      위치정보의 보호 및 이용 등에 관한 법률   False   \n",
       "926                       제21조의2(퇴소조치 등)                   공무원 재해보상법   False   \n",
       "476                   제42조(주민등록증 분실신고 등)                       근로기준법   False   \n",
       "424                      제18조의5(공청회의 개최)                      원자력안전법   False   \n",
       "1359              제38조의2(공동생활시설의 이용지원 등)                    병역법 시행규칙   False   \n",
       "\n",
       "      age     gt     lt  \n",
       "1181   22  False  False  \n",
       "1076   18   True  False  \n",
       "115    15   True  False  \n",
       "1195   19   True  False  \n",
       "1375   19   True  False  \n",
       "1322   14   True  False  \n",
       "926    19  False  False  \n",
       "476    15   True  False  \n",
       "424    18   True  False  \n",
       "1359   30   True  False  "
      ]
     },
     "execution_count": 181,
     "metadata": {},
     "output_type": "execute_result"
    }
   ],
   "source": [
    "result_df[result_df['age']<40].sample(10)"
   ]
  },
  {
   "cell_type": "code",
   "execution_count": 184,
   "metadata": {},
   "outputs": [
    {
     "data": {
      "text/html": [
       "<div>\n",
       "<style scoped>\n",
       "    .dataframe tbody tr th:only-of-type {\n",
       "        vertical-align: middle;\n",
       "    }\n",
       "\n",
       "    .dataframe tbody tr th {\n",
       "        vertical-align: top;\n",
       "    }\n",
       "\n",
       "    .dataframe thead th {\n",
       "        text-align: right;\n",
       "    }\n",
       "</style>\n",
       "<table border=\"1\" class=\"dataframe\">\n",
       "  <thead>\n",
       "    <tr style=\"text-align: right;\">\n",
       "      <th></th>\n",
       "      <th>age_list</th>\n",
       "      <th>jo_contents</th>\n",
       "      <th>jo_title</th>\n",
       "      <th>title</th>\n",
       "      <th>man_TF</th>\n",
       "      <th>age</th>\n",
       "      <th>gt</th>\n",
       "      <th>lt</th>\n",
       "    </tr>\n",
       "  </thead>\n",
       "  <tbody>\n",
       "    <tr>\n",
       "      <th>205</th>\n",
       "      <td>[60세미만]</td>\n",
       "      <td>60세 미만의 직계존속(直系尊屬)과 성년인 형제자매가 없는 미성년 제매(弟妹)  ...</td>\n",
       "      <td>제111조(승객 및 승무원의 좌석 등)</td>\n",
       "      <td>5ㆍ18민주유공자예우에 관한 법률</td>\n",
       "      <td>False</td>\n",
       "      <td>60</td>\n",
       "      <td>True</td>\n",
       "      <td>False</td>\n",
       "    </tr>\n",
       "    <tr>\n",
       "      <th>206</th>\n",
       "      <td>[60세미만, 60세미만]</td>\n",
       "      <td>「병역법」 제2조제1항제17호의2에 따른 대체복무요원으로 소집된 사람  ⑥ 제1항...</td>\n",
       "      <td>제111조(승객 및 승무원의 좌석 등)</td>\n",
       "      <td>5ㆍ18민주유공자예우에 관한 법률</td>\n",
       "      <td>False</td>\n",
       "      <td>60</td>\n",
       "      <td>True</td>\n",
       "      <td>False</td>\n",
       "    </tr>\n",
       "    <tr>\n",
       "      <th>207</th>\n",
       "      <td>[30세이전]</td>\n",
       "      <td>5ㆍ18민주화운동사망자 또는 행방불명자의 자녀 및 미성년 제매와 제1호에 해당하는...</td>\n",
       "      <td>제111조(승객 및 승무원의 좌석 등)</td>\n",
       "      <td>5ㆍ18민주유공자예우에 관한 법률</td>\n",
       "      <td>False</td>\n",
       "      <td>30</td>\n",
       "      <td>True</td>\n",
       "      <td>False</td>\n",
       "    </tr>\n",
       "    <tr>\n",
       "      <th>208</th>\n",
       "      <td>[65세이상, 60세이상, 60세이상, 55세이상]</td>\n",
       "      <td>제55조(양로지원)  5ㆍ18민주유공자 또는 그 유족(자녀는 제외한다)으로서 65...</td>\n",
       "      <td>제55조(양로지원)</td>\n",
       "      <td>5ㆍ18민주유공자예우에 관한 법률</td>\n",
       "      <td>False</td>\n",
       "      <td>65</td>\n",
       "      <td>True</td>\n",
       "      <td>False</td>\n",
       "    </tr>\n",
       "    <tr>\n",
       "      <th>209</th>\n",
       "      <td>[19세가, 19세가]</td>\n",
       "      <td>다만, 양육지원을 받고 있는 사람으로서 19세가 된 사람이 고등학교ㆍ대학 또는 이...</td>\n",
       "      <td>제55조(양로지원)</td>\n",
       "      <td>5ㆍ18민주유공자예우에 관한 법률</td>\n",
       "      <td>False</td>\n",
       "      <td>19</td>\n",
       "      <td>False</td>\n",
       "      <td>False</td>\n",
       "    </tr>\n",
       "  </tbody>\n",
       "</table>\n",
       "</div>"
      ],
      "text/plain": [
       "                         age_list  \\\n",
       "205                       [60세미만]   \n",
       "206                [60세미만, 60세미만]   \n",
       "207                       [30세이전]   \n",
       "208  [65세이상, 60세이상, 60세이상, 55세이상]   \n",
       "209                  [19세가, 19세가]   \n",
       "\n",
       "                                           jo_contents               jo_title  \\\n",
       "205   60세 미만의 직계존속(直系尊屬)과 성년인 형제자매가 없는 미성년 제매(弟妹)  ...  제111조(승객 및 승무원의 좌석 등)   \n",
       "206   「병역법」 제2조제1항제17호의2에 따른 대체복무요원으로 소집된 사람  ⑥ 제1항...  제111조(승객 및 승무원의 좌석 등)   \n",
       "207   5ㆍ18민주화운동사망자 또는 행방불명자의 자녀 및 미성년 제매와 제1호에 해당하는...  제111조(승객 및 승무원의 좌석 등)   \n",
       "208   제55조(양로지원)  5ㆍ18민주유공자 또는 그 유족(자녀는 제외한다)으로서 65...             제55조(양로지원)   \n",
       "209   다만, 양육지원을 받고 있는 사람으로서 19세가 된 사람이 고등학교ㆍ대학 또는 이...             제55조(양로지원)   \n",
       "\n",
       "                  title  man_TF  age     gt     lt  \n",
       "205  5ㆍ18민주유공자예우에 관한 법률   False   60   True  False  \n",
       "206  5ㆍ18민주유공자예우에 관한 법률   False   60   True  False  \n",
       "207  5ㆍ18민주유공자예우에 관한 법률   False   30   True  False  \n",
       "208  5ㆍ18민주유공자예우에 관한 법률   False   65   True  False  \n",
       "209  5ㆍ18민주유공자예우에 관한 법률   False   19  False  False  "
      ]
     },
     "execution_count": 184,
     "metadata": {},
     "output_type": "execute_result"
    }
   ],
   "source": [
    "result_df[result_df['title']=='5ㆍ18민주유공자예우에 관한 법률']"
   ]
  },
  {
   "cell_type": "code",
   "execution_count": 126,
   "metadata": {},
   "outputs": [],
   "source": [
    "exclude_list = ['장애인고용촉진 및 직업재활법','경찰대학의 학사운영에 관한 규정']"
   ]
  },
  {
   "cell_type": "code",
   "execution_count": 127,
   "metadata": {},
   "outputs": [
    {
     "data": {
      "text/plain": [
       "array(['가사소송규칙', '전통시장 및 상점가 육성을 위한 특별법 시행령',\n",
       "       '자동차 및 자동차부품의 성능과 기준에 관한 규칙', '우편법 시행규칙', '지방공무원 임용령', '소득세법',\n",
       "       '빈집 및 소규모주택 정비에 관한 특례법', '가족관계의 등록 등에 관한 법률', '주민등록법 시행규칙',\n",
       "       '총포ㆍ도검ㆍ화약류 등의 안전관리에 관한 법률', '주택공급에 관한 규칙', '산림보호법 시행령',\n",
       "       '해양경찰청 소속 경찰공무원 임용에 관한 규정', '고등교육법', '위해성 경찰장비의 사용기준 등에 관한 규정',\n",
       "       '고용보험법', '선원법 시행령', '국군간호사관학교 설치법', '아동수당법',\n",
       "       '해양생태계의 보전 및 관리에 관한 법률 시행규칙', '초ㆍ중등교육법 시행규칙', '공무원임용령', '감사원법',\n",
       "       '여권법 시행령', '의약품 등의 안전에 관한 규칙', '노인복지법 시행규칙',\n",
       "       '고용보험 및 산업재해보상보험의 보험료징수 등에 관한 법률',\n",
       "       '군용비행장ㆍ군사격장 소음 방지 및 피해 보상에 관한 법률 시행령', '의료법 시행규칙', '개인정보 보호법 시행령',\n",
       "       '선박직원법', '여객자동차 운수사업법', '제대군인지원에 관한 법률 시행령', '전문경력관 규칙', '건설기계관리법',\n",
       "       '수산업ㆍ어촌 공익기능 증진을 위한 직접지불제도 운영에 관한 법률', '사립학교법 시행령',\n",
       "       '국제형사재판소 관할 범죄의 처벌 등에 관한 법률', '공연법', '도로교통법 시행규칙', '국적법 시행규칙',\n",
       "       '국민건강증진법 시행령', '도로교통법', '재외동포의 출입국과 법적 지위에 관한 법률', '보험업법 시행령',\n",
       "       '국가보훈대상자 의료지원에 관한 규칙', '민법', '교육공무원법', '아이돌봄 지원법 시행규칙', '공직선거법',\n",
       "       '사행행위 등 규제 및 처벌 특례법 시행규칙', '노인복지법', '여권법', '장애인 등에 대한 특수교육법 시행령',\n",
       "       '해양사고의 조사 및 심판에 관한 법률', '어린이안전관리에 관한 법률', '아동복지법', '수도법', '공무원연금법',\n",
       "       '경범죄 처벌법', '공직자 등의 병역사항 신고 및 공개에 관한 법률 시행령', '항공안전법 시행규칙',\n",
       "       '산업재해보상보험법 시행령', '5ㆍ18민주유공자예우에 관한 법률', '방송법 시행령', '군인연금법 시행규칙',\n",
       "       '경비업법', '취업 후 학자금 상환 특별법', '장애인 등에 대한 특수교육법', '국가공무원법',\n",
       "       '수목원ㆍ정원의 조성 및 진흥에 관한 법률 시행규칙', '군무원인사법', '비상대비자원 관리법', '지방세법 시행령',\n",
       "       '철도안전법', '청소년복지 지원법 시행규칙', '보호소년 등의 처우에 관한 법률',\n",
       "       '성폭력범죄의 처벌 등에 관한 특례법', '외무공무원임용령', '민주평화통일자문회의법 시행령', '장애아동 복지지원법',\n",
       "       '국군포로의 송환 및 대우 등에 관한 법률 시행령', '지방자치법 시행령', '유선 및 도선 사업법',\n",
       "       '출입국관리법 시행규칙', '특허심판원 국선대리인의 선임 및 운영에 관한 규칙', '근로자퇴직급여 보장법 시행령',\n",
       "       '조세특례제한법', '결혼중개업의 관리에 관한 법률', '지방자치법', '장애인연금법',\n",
       "       '장기공공임대주택 입주자 삶의 질 향상 지원법 시행령', '의료급여법 시행령', '형사소송법',\n",
       "       '군인복지기본법 시행령', '항공안전법', '호스피스ㆍ완화의료 및 임종과정에 있는 환자의 연명의료결정에 관한 법률',\n",
       "       '군인연금법', '영유아보육법', '5ㆍ18민주유공자예우에 관한 법률 시행령', '특정강력범죄의 처벌에 관한 특례법',\n",
       "       '자연환경보전법 시행규칙', '아동복지법 시행규칙', '청소년 기본법', '근로기준법 시행규칙',\n",
       "       '군인 재해보상법 시행령', '초ㆍ중등교육법 시행령', '주민등록법', '의용소방대 설치 및 운영에 관한 법률',\n",
       "       '청년고용촉진 특별법 시행령', '공직선거관리규칙', '선원의안전및위생에관한규칙',\n",
       "       '아동학대범죄의 처벌 등에 관한 특례법', '자연공원법 시행규칙', '비상대비자원 관리법 시행령', '국민건강보험법',\n",
       "       '조세특례제한법 시행령', '장애인 등에 대한 특수교육법 시행규칙', '집행관법',\n",
       "       '독립유공자예우에 관한 법률 시행령', '선박안전법', '중소기업협동조합법 시행령', '아이돌봄 지원법',\n",
       "       '5ㆍ18민주유공자예우 및 단체설립에 관한 법률', '감염병의 예방 및 관리에 관한 법률 시행규칙',\n",
       "       '전원개발촉진법 시행령', '다문화가족지원법', '원자력안전법', '군인연금법 시행령',\n",
       "       '장애아동 복지지원법 시행규칙', '음악산업진흥에 관한 법률', '의료급여법 시행규칙',\n",
       "       '수상에서의 수색ㆍ구조 등에 관한 법률 시행령', '육군3사관학교 설치법', '도로법 시행규칙',\n",
       "       '별정우체국법 시행령', '보훈보상대상자 지원에 관한 법률 시행령',\n",
       "       '제주특별자치도 설치 및 국제자유도시 조성을 위한 특별법 시행령', '자전거 이용 활성화에 관한 법률',\n",
       "       '헌법재판소 공무원 규칙', '성폭력방지 및 피해자보호 등에 관한 법률', '평생교육법 시행령',\n",
       "       '마리나항만의 조성 및 관리 등에 관한 법률', '별정우체국법', '소방공무원임용령', '청년기본법',\n",
       "       '장애인활동 지원에 관한 법률 시행령', '집행관규칙', '주민등록법 시행령', '근로기준법',\n",
       "       '노인장기요양보험법 시행규칙', '인감증명법 시행령', '건설기계관리법 시행규칙', '독립유공자예우에 관한 법률',\n",
       "       '수중레저활동의 안전 및 활성화 등에 관한 법률', '선거관리위원회 별정직공무원 규칙', '노인장기요양보험법',\n",
       "       '암관리법 시행령', '주민투표법', '문화유산과 자연환경자산에 관한 국민신탁법 시행령', '청소년 보호법',\n",
       "       '환경오염피해 배상책임 및 구제에 관한 법률 시행령', '고위공직자범죄수사처 설치 및 운영에 관한 법률',\n",
       "       '의무소방대설치법', '입양특례법의 시행에 관한 대법원규칙', '군인 재해보상법', '사립학교법',\n",
       "       '철도안전법 시행규칙', '자본시장과 금융투자업에 관한 법률 시행령', '전자장치 부착 등에 관한 법률',\n",
       "       '장기등 이식에 관한 법률', '유아교육법', '종합부동산세법 시행령', '실종아동등의 보호 및 지원에 관한 법률',\n",
       "       '기초연금법 시행령', '특허료 등의 징수규칙', '영유아보육법 시행규칙',\n",
       "       '사격 및 사격장 안전관리에 관한 법률 시행령', '재난 및 안전관리 기본법 시행령',\n",
       "       '아동ㆍ청소년의 성보호에 관한 법률', '예비군법 시행령',\n",
       "       '농업ㆍ농촌 공익기능 증진 직접지불제도 운영에 관한 법률 시행령', '국민체육진흥법 시행규칙', '화장품법 시행규칙',\n",
       "       '장애인고용촉진 및 직업재활법', '청원산림보호직원 배치에 관한 법률 시행령',\n",
       "       '국회에서의 증언ㆍ감정 등에 관한 법률', '입양특례법', '관광진흥법', '사립학교교직원 연금법 시행령',\n",
       "       '군무원인사법 시행령', '특수임무유공자 예우 및 단체설립에 관한 법률', '장사 등에 관한 법률 시행령',\n",
       "       '특정범죄 가중처벌 등에 관한 법률', '공증인법', '국가균형발전 특별법', '여신전문금융업법 시행령',\n",
       "       '경찰공무원 보건안전 및 복지 기본법 시행령', '북한이탈주민의 보호 및 정착지원에 관한 법률',\n",
       "       '청원산림보호직원 배치에 관한 법률', '인체조직안전 및 관리 등에 관한 법률', '국민기초생활 보장법 시행령',\n",
       "       '영화 및 비디오물의 진흥에 관한 법률', '인권보호수사규칙', '성폭력방지 및 피해자보호 등에 관한 법률 시행령',\n",
       "       '법원별정직공무원규칙', '상속세 및 증여세법', '동물보호법', '경찰공무원법', '장애인활동 지원에 관한 법률',\n",
       "       '종합부동산세법', '고용보험법 시행규칙', '지방세특례제한법', '지방공무원 복무규정',\n",
       "       '과학기술인공제회 퇴직연금급여사업 등 운영규칙', '지방세특례제한법 시행령', '보호관찰 등에 관한 법률',\n",
       "       '지방공무원법', '의료급여법', '국민의 형사재판 참여에 관한 규칙', '화물자동차 운수사업법 시행규칙',\n",
       "       '건설근로자의 고용개선 등에 관한 법률', '군인사법 시행규칙', '농어업경영체 육성 및 지원에 관한 법률 시행규칙',\n",
       "       '형법', '국가유공자 등 예우 및 지원에 관한 법률', '가정폭력범죄의 처벌 등에 관한 특례법',\n",
       "       '당내경선 위탁사무 관리규칙', '국제항해선박 등에 대한 해적행위 피해예방에 관한 법률', '국가공무원 복무규정',\n",
       "       '농지법', '고용상 연령차별금지 및 고령자고용촉진에 관한 법률 시행령',\n",
       "       '구직자 취업촉진 및 생활안정지원에 관한 법률', '낚시 관리 및 육성법', '장애인복지법 시행령',\n",
       "       '거창사건등 관련자의 명예회복에 관한 특별조치법 시행령', '장애인ㆍ고령자 등 주거약자 지원에 관한 법률',\n",
       "       '자동차관리법 시행규칙', '수상레저안전법 시행규칙', '고등교육법 시행령', '군법무관임용법시행령',\n",
       "       '농업기계화 촉진법 시행규칙', '검찰청법', '고용상 연령차별금지 및 고령자고용촉진에 관한 법률',\n",
       "       '국민체육진흥법 시행령', '병역판정 신체검사 등 검사규칙', '공무원 여비 규정',\n",
       "       '국민건강보험 요양급여의 기준에 관한 규칙', '전직대통령 예우에 관한 법률', '소득세법 시행령', '기초연금법',\n",
       "       '환경보건법', '산업재해보상보험법', '대통령 등의 경호에 관한 법률', '헌법재판소법',\n",
       "       '게임산업진흥에 관한 법률 시행규칙', '국민연금과 직역연금의 연계에 관한 법률',\n",
       "       '산림복지 진흥에 관한 법률 시행령', '국적법 시행령', '초ㆍ중등교육법',\n",
       "       '특수임무유공자 예우 및 단체설립에 관한 법률 시행령', '장기등 이식에 관한 법률 시행규칙',\n",
       "       '부패방지 및 국민권익위원회의 설치와 운영에 관한 법률', '게임산업진흥에 관한 법률', '경찰공무원 임용령',\n",
       "       '장애아동 복지지원법 시행령', '해외이주법 시행규칙', '국민연금법', '도서관법 시행령',\n",
       "       '국민의 형사재판 참여에 관한 법률', '사립학교교직원 연금법', '에너지법 시행령',\n",
       "       '가정폭력방지 및 피해자보호 등에 관한 법률', '대체역의 편입 및 복무 등에 관한 법률',\n",
       "       '사격 및 사격장 안전관리에 관한 법률', '외국인보호규칙', '고용보험법 시행령', '양식산업발전법 시행령',\n",
       "       '청소년 보호법 시행령', '정보통신망 이용촉진 및 정보보호 등에 관한 법률', '소년법',\n",
       "       '교통약자의 이동편의 증진법 시행규칙', '약사법', '노인장기요양보험법 시행령', '집회 및 시위에 관한 법률',\n",
       "       '도로명주소법 시행령', '헌법재판소 별정직공무원 규칙', '장애인연금법 시행령', '의무소방대설치법 시행령',\n",
       "       '간선급행버스체계의 건설 및 운영에 관한 특별법 시행규칙', '해외이주법 시행령', '민방위기본법',\n",
       "       '아동복지법 시행령', '별정우체국직원 인사규칙', '경찰대학의 학사운영에 관한 규정', '공무원 재해보상법',\n",
       "       '임업 및 산촌 진흥촉진에 관한 법률 시행규칙', '특별감찰관법', '병역법', '청소년복지 지원법',\n",
       "       '지방별정직공무원 인사규정', '군사법원법', '실종아동등의 보호 및 지원에 관한 법률 시행령', '소방공무원법',\n",
       "       '소방공무원임용령 시행규칙', '산림문화ㆍ휴양에 관한 법률 시행령', '보훈보상대상자 지원에 관한 법률',\n",
       "       '법원공무원 여비 규칙', '건설근로자의 고용개선 등에 관한 법률 시행규칙', '영유아보육법 시행령',\n",
       "       '농산물의 생산자를 위한 직접지불제도 시행규정', '선박안전법 시행규칙',\n",
       "       '정보통신망 이용촉진 및 정보보호 등에 관한 법률 시행령', '약사법 시행규칙', '근로자퇴직급여 보장법',\n",
       "       '상속세 및 증여세법 시행령', '직업안정법', '국제질병퇴치기금법 시행령', '대중문화예술산업발전법',\n",
       "       '농어업인 삶의 질 향상 및 농어촌지역 개발촉진에 관한 특별법', '전문경력관 규정', '근로자직업능력 개발법 시행령',\n",
       "       '상법', '근로기준법 시행령', '부마민주항쟁 관련자의 명예회복 및 보상 등에 관한 법률 시행령',\n",
       "       '공무원 재해보상법 시행령', '선거관리위원회 공무원 규칙', '장애인고용촉진 및 직업재활법 시행령',\n",
       "       '여객자동차 운수사업법 시행령', '장사 등에 관한 법률',\n",
       "       '민주화운동관련자 명예회복 및 보상 등에 관한 법률 시행령', '형의 집행 및 수용자의 처우에 관한 법률', '도선법',\n",
       "       '공무원임용시험령', '국민연금법 시행규칙', '국가정보원직원법', '국민연금법 시행령',\n",
       "       '보호소년 등의 처우에 관한 법률 시행규칙', '도시 및 주거환경정비법', '체육시설의 설치ㆍ이용에 관한 법률 시행령',\n",
       "       '군인의 지위 및 복무에 관한 기본법 시행령', '사관학교 설치법', '선거관리위원회법',\n",
       "       '남녀고용평등과 일ㆍ가정 양립 지원에 관한 법률', '보호소년 등의 처우에 관한 법률 시행령',\n",
       "       '법정 방청 및 촬영 등에 관한 규칙', '선원법 시행규칙', '국립박물관 전시품 관람규칙',\n",
       "       '여객자동차 운수사업법 시행규칙', '소년심판규칙', '별정직공무원 인사규정', '산업재해보상보험법 시행규칙',\n",
       "       '성폭력범죄자의 성충동 약물치료에 관한 법률', '노근리사건 희생자 심사 및 명예회복에 관한 특별법 시행령',\n",
       "       '청소년복지 지원법 시행령', '구직자 취업촉진 및 생활안정지원에 관한 법률 시행령', '국가정보원직원법 시행령',\n",
       "       '선원법', '도로교통법 시행령', '실용신안법 시행령', '제주특별자치도 여행객에 대한 면세점 특례 규정',\n",
       "       '국군포로의 송환 및 대우 등에 관한 법률', '국적법', '국민건강보험법 시행령', '모자보건법', '외무공무원법',\n",
       "       '관세법 시행규칙', '공무원수당 등에 관한 규정', '습지보전법 시행규칙',\n",
       "       '대부업 등의 등록 및 금융이용자 보호에 관한 법률 시행령', '농산물의 생산자를 위한 직접지불제도 시행규칙',\n",
       "       '산업현장 일학습병행 지원에 관한 법률 시행령', '소득세법 시행규칙', '참전유공자 예우 및 단체설립에 관한 법률',\n",
       "       '중소기업창업 지원법 시행령', '위치정보의 보호 및 이용 등에 관한 법률 시행령', '민사소송법',\n",
       "       '대한민국 주재 외국 공관원 등을 위한 신분증 발급과 관리에 관한 규칙', '한국농어촌공사 및 농지관리기금법 시행령',\n",
       "       '지뢰피해자 지원에 관한 특별법 시행령', '법원조직법', '한국농어촌공사 및 농지관리기금법 시행규칙',\n",
       "       '질서위반행위규제법', '병역법 시행령',\n",
       "       '군사정전에 관한 협정 체결 이후 납북피해자의 보상 및 지원에 관한 법률 시행령',\n",
       "       '제주특별자치도 설치 및 국제자유도시 조성을 위한 특별법', '신용정보의 이용 및 보호에 관한 법률',\n",
       "       '주민소환에 관한 법률', '국립묘지의 설치 및 운영에 관한 법률 시행령', '아동수당법 시행규칙', '군인사법',\n",
       "       '대한민국헌법', '화장품법', '법원공무원규칙', '중소기업 인력지원 특별법', '국회방청규칙', '청원경찰법',\n",
       "       '국민투표법', '인터넷전문은행 설립 및 운영에 관한 특례법 시행령', '공무원연금법 시행령',\n",
       "       '대한민국헌정회 육성법', '유아교육법 시행령', '한부모가족지원법', '국회도서관 운영에 관한 규칙', '가사소송법',\n",
       "       '출입국관리법 시행령', '형의 집행 및 수용자의 처우에 관한 법률 시행규칙',\n",
       "       '폐광지역 개발 지원에 관한 특별법 시행령', '여권법 시행규칙', '사격 및 사격장 안전관리에 관한 법률 시행규칙',\n",
       "       '참전유공자 예우 및 단체설립에 관한 법률 시행령', '노숙인 등의 복지 및 자립지원에 관한 법률 시행규칙',\n",
       "       '군인 재해보상법 시행규칙', '출입국관리법', '청소년활동 진흥법', '군용항공기 운용 등에 관한 법률',\n",
       "       '귀농어ㆍ귀촌 활성화 및 지원에 관한 법률 시행령', '발명진흥법 시행령', '국립외교원법',\n",
       "       '관광진흥개발기금법 시행령', '형의 집행 및 수용자의 처우에 관한 법률 시행령',\n",
       "       '세종특별자치시 설치 등에 관한 특별법', '직업안정법 시행규칙', '청원경찰법 시행령', '건전가정의례준칙',\n",
       "       '민영교도소 등의 설치ㆍ운영에 관한 법률 시행령', '고엽제후유의증 등 환자지원 및 단체설립에 관한 법률',\n",
       "       '개인정보 보호법', '위치정보의 보호 및 이용 등에 관한 법률', '수산업법 시행령',\n",
       "       '중소기업 인력지원 특별법 시행령', '국가유공자 등 예우 및 지원에 관한 법률 시행령', '국민건강증진법 시행규칙',\n",
       "       '인구동향조사 규칙', '헤이그 국제아동탈취협약 이행에 관한 법률', '근로자직업능력 개발법',\n",
       "       '공직자 등의 병역사항 신고 및 공개에 관한 법률', '국립현대미술관 전시품 관람규칙', '공군항공과학고등학교 설치법',\n",
       "       '어린이제품 안전 특별법', '전기용품 및 생활용품 안전관리법', '한국주택금융공사법 시행령',\n",
       "       '북한이탈주민의 보호 및 정착지원에 관한 법률 시행령', '의무경찰대 설치 및 운영에 관한 법률', '병역법 시행규칙',\n",
       "       '지방공무원 수당 등에 관한 규정', '국민감사청구ㆍ부패행위신고등처리에관한규칙', '수상레저안전법',\n",
       "       '성매매방지 및 피해자보호 등에 관한 법률', '민방위기본법 시행규칙',\n",
       "       '북한이탈주민의 보호 및 정착지원에 관한 법률 시행규칙', '법관 및 법원공무원수당 등에 관한 규칙',\n",
       "       '식물신품종 보호법에 따른 품종보호료 및 수수료 징수규칙', '입양특례법 시행규칙',\n",
       "       '전직대통령 예우에 관한 법률 시행령', '노인복지법 시행령',\n",
       "       '자치경찰사무와 시ㆍ도자치경찰위원회의 조직 및 운영 등에 관한 규정', '특허법 시행령'], dtype=object)"
      ]
     },
     "execution_count": 127,
     "metadata": {},
     "output_type": "execute_result"
    }
   ],
   "source": [
    "result_df['title'].unique()"
   ]
  },
  {
   "cell_type": "code",
   "execution_count": null,
   "metadata": {},
   "outputs": [],
   "source": [
    "def age_hist(d):\n",
    "    \n",
    "    age_list = d['age']\n",
    "    result = [0 for j in range(11)]\n",
    "    for j in [int(iage.split('세')[0]) for iage in age_list if not iage.split('세')[0].startswith('만') ]:\n",
    "        jindex = int(j/10)\n",
    "\n",
    "        result[jindex]+=1\n",
    "    for j in [int(iage.split('세')[0].split('만')[-1]) for iage in age_list if iage.split('세')[0].startswith('만') ]:\n",
    "        jindex = int(j/10)\n",
    "        result[jindex]+=1\n",
    "    return pd.Series(result)"
   ]
  },
  {
   "cell_type": "code",
   "execution_count": null,
   "metadata": {},
   "outputs": [],
   "source": [
    "df[[\"{}대\".format(i) for i in range(0,110,10)]] = df.apply(age_hist, axis=1)"
   ]
  },
  {
   "cell_type": "raw",
   "metadata": {},
   "source": [
    "df[[\"{}대\".format(i) for i in range(0,110,10)]]"
   ]
  },
  {
   "cell_type": "markdown",
   "metadata": {},
   "source": [
    "단순 연령대별 시각화"
   ]
  },
  {
   "cell_type": "code",
   "execution_count": null,
   "metadata": {},
   "outputs": [],
   "source": [
    "tmp_df = df[[\"{}대\".format(i) for i in range(0,110,10)]]"
   ]
  },
  {
   "cell_type": "code",
   "execution_count": null,
   "metadata": {},
   "outputs": [],
   "source": [
    "tmp_df"
   ]
  },
  {
   "cell_type": "code",
   "execution_count": null,
   "metadata": {},
   "outputs": [],
   "source": [
    "import numpy as np"
   ]
  },
  {
   "cell_type": "code",
   "execution_count": null,
   "metadata": {
    "scrolled": false
   },
   "outputs": [],
   "source": [
    "import matplotlib.pyplot as plt\n",
    "%matplotlib inline\n",
    "plt.rc('font', family='Malgun Gothic')\n",
    "plt.rcParams[\"figure.figsize\"] = (5,5)"
   ]
  },
  {
   "cell_type": "code",
   "execution_count": null,
   "metadata": {},
   "outputs": [],
   "source": [
    "import seaborn as sns"
   ]
  },
  {
   "cell_type": "code",
   "execution_count": null,
   "metadata": {},
   "outputs": [],
   "source": [
    "tmp_df.sum().to_frame()"
   ]
  },
  {
   "cell_type": "code",
   "execution_count": null,
   "metadata": {},
   "outputs": [],
   "source": [
    "tmp_df"
   ]
  },
  {
   "cell_type": "code",
   "execution_count": null,
   "metadata": {},
   "outputs": [],
   "source": [
    "# tmp = tmp_df.sum()\n",
    "sns.heatmap(tmp_df.sum().to_frame().T,cmap='YlGnBu' )\n",
    "plt.show()\n"
   ]
  },
  {
   "cell_type": "code",
   "execution_count": null,
   "metadata": {},
   "outputs": [],
   "source": []
  },
  {
   "cell_type": "code",
   "execution_count": null,
   "metadata": {},
   "outputs": [],
   "source": [
    "for i in range(0, len(tmp_df[tmp_df['0대']!=0].sort_values(by='0대', ascending=False)),50):\n",
    "    tmp = tmp_df[tmp_df['0대']!=0].sort_values(by='0대', ascending=False).iloc[i:i+50]\n",
    "    sns.heatmap(tmp,cmap='YlGnBu' )\n",
    "    plt.show()"
   ]
  },
  {
   "cell_type": "code",
   "execution_count": null,
   "metadata": {
    "scrolled": false
   },
   "outputs": [],
   "source": [
    "for i in range(0, len(tmp_df[tmp_df['10대']!=0].sort_values(by='10대', ascending=False)),20):\n",
    "    tmp = tmp_df[tmp_df['10대']!=0].sort_values(by='10대', ascending=False).iloc[i:i+20]\n",
    "    sns.heatmap(tmp,cmap='YlGnBu' )\n",
    "    plt.show()"
   ]
  },
  {
   "cell_type": "code",
   "execution_count": null,
   "metadata": {
    "scrolled": false
   },
   "outputs": [],
   "source": [
    "for i in range(0, len(tmp_df[tmp_df['60대']!=0].sort_values(by='60대', ascending=False)),20):\n",
    "    tmp = tmp_df[tmp_df['60대']!=0].sort_values(by='60대', ascending=False).iloc[i:i+20]\n",
    "    sns.heatmap(tmp,cmap='YlGnBu' )\n",
    "    plt.show()"
   ]
  },
  {
   "cell_type": "code",
   "execution_count": null,
   "metadata": {},
   "outputs": [],
   "source": [
    "df"
   ]
  },
  {
   "cell_type": "code",
   "execution_count": null,
   "metadata": {},
   "outputs": [],
   "source": [
    "age_dict = {}\n",
    "for idx, row in df.iterrows():\n",
    "    data = row['age']\n",
    "    for item in data:\n",
    "        if item not in age_dict.keys():\n",
    "            age_dict[item] = 1\n",
    "        else:\n",
    "            age_dict[item]+=1"
   ]
  },
  {
   "cell_type": "code",
   "execution_count": null,
   "metadata": {},
   "outputs": [],
   "source": [
    "age_dict"
   ]
  },
  {
   "cell_type": "code",
   "execution_count": null,
   "metadata": {},
   "outputs": [],
   "source": []
  }
 ],
 "metadata": {
  "kernelspec": {
   "display_name": "Python 3",
   "language": "python",
   "name": "python3"
  },
  "language_info": {
   "codemirror_mode": {
    "name": "ipython",
    "version": 3
   },
   "file_extension": ".py",
   "mimetype": "text/x-python",
   "name": "python",
   "nbconvert_exporter": "python",
   "pygments_lexer": "ipython3",
   "version": "3.7.6"
  }
 },
 "nbformat": 4,
 "nbformat_minor": 4
}
