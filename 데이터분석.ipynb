{
 "cells": [
  {
   "cell_type": "code",
   "execution_count": 5,
   "metadata": {},
   "outputs": [],
   "source": [
    "import pandas as pd\n",
    "import re\n",
    "from glob import glob\n",
    "from tqdm.notebook import tqdm"
   ]
  },
  {
   "cell_type": "code",
   "execution_count": 6,
   "metadata": {},
   "outputs": [],
   "source": [
    "files = glob('./data/*.csv')"
   ]
  },
  {
   "cell_type": "code",
   "execution_count": 7,
   "metadata": {},
   "outputs": [],
   "source": [
    "result = pd.DataFrame(columns=['title','contents'])\n",
    "for ifile in files:\n",
    "    df = pd.read_csv(ifile)\n",
    "    result = pd.concat([result,df], axis=0)"
   ]
  },
  {
   "cell_type": "code",
   "execution_count": 8,
   "metadata": {},
   "outputs": [
    {
     "data": {
      "text/html": [
       "<div>\n",
       "<style scoped>\n",
       "    .dataframe tbody tr th:only-of-type {\n",
       "        vertical-align: middle;\n",
       "    }\n",
       "\n",
       "    .dataframe tbody tr th {\n",
       "        vertical-align: top;\n",
       "    }\n",
       "\n",
       "    .dataframe thead th {\n",
       "        text-align: right;\n",
       "    }\n",
       "</style>\n",
       "<table border=\"1\" class=\"dataframe\">\n",
       "  <thead>\n",
       "    <tr style=\"text-align: right;\">\n",
       "      <th></th>\n",
       "      <th>title</th>\n",
       "      <th>contents</th>\n",
       "    </tr>\n",
       "  </thead>\n",
       "  <tbody>\n",
       "    <tr>\n",
       "      <th>0</th>\n",
       "      <td>\\n\\t\\t\\t\\t정부조직법\\n\\t\\t\\t\\t\\n\\t\\t\\t</td>\n",
       "      <td>제1조(목적)  이 법은 국가행정사무의 체계적이고 능률적인 수행을 위하여 국가행정기...</td>\n",
       "    </tr>\n",
       "    <tr>\n",
       "      <th>1</th>\n",
       "      <td>\\n\\t\\t\\t\\t학교시설사업 촉진법\\n\\t\\t\\t\\t\\n\\t\\t\\t</td>\n",
       "      <td>제1조(목적) 이 법은 초등학교ㆍ중학교ㆍ고등학교 및 특수학교의 시설의 설치ㆍ이전 및...</td>\n",
       "    </tr>\n",
       "    <tr>\n",
       "      <th>2</th>\n",
       "      <td>\\n\\t\\t\\t\\t공공차관의도입및관리에관한법률시행규칙\\n\\t\\t\\t\\t</td>\n",
       "      <td>제1조(목적) 이 규칙은 공공차관의도입및관리에관한법률 및 동법시행령에서 위임된 사항...</td>\n",
       "    </tr>\n",
       "    <tr>\n",
       "      <th>3</th>\n",
       "      <td>\\n\\t\\t\\t\\t사법정책자문위원회 규칙\\n\\t\\t\\t\\t\\n\\t\\t\\t</td>\n",
       "      <td>제1조 (목적) 이 규칙은 법원조직법 제25조에 규정된 사법정책자문위원회(이하 ‘위...</td>\n",
       "    </tr>\n",
       "    <tr>\n",
       "      <th>4</th>\n",
       "      <td>\\n\\t\\t\\t\\t연구실 안전환경 조성에 관한 법률 시행규칙\\n\\t\\t\\t\\t</td>\n",
       "      <td>제1조(목적) 이 규칙은 「연구실 안전환경 조성에 관한 법률」 및 같은 법 시행령에...</td>\n",
       "    </tr>\n",
       "  </tbody>\n",
       "</table>\n",
       "</div>"
      ],
      "text/plain": [
       "                                         title  \\\n",
       "0            \\n\\t\\t\\t\\t정부조직법\\n\\t\\t\\t\\t\\n\\t\\t\\t   \n",
       "1       \\n\\t\\t\\t\\t학교시설사업 촉진법\\n\\t\\t\\t\\t\\n\\t\\t\\t   \n",
       "2      \\n\\t\\t\\t\\t공공차관의도입및관리에관한법률시행규칙\\n\\t\\t\\t\\t   \n",
       "3     \\n\\t\\t\\t\\t사법정책자문위원회 규칙\\n\\t\\t\\t\\t\\n\\t\\t\\t   \n",
       "4  \\n\\t\\t\\t\\t연구실 안전환경 조성에 관한 법률 시행규칙\\n\\t\\t\\t\\t   \n",
       "\n",
       "                                            contents  \n",
       "0  제1조(목적)  이 법은 국가행정사무의 체계적이고 능률적인 수행을 위하여 국가행정기...  \n",
       "1  제1조(목적) 이 법은 초등학교ㆍ중학교ㆍ고등학교 및 특수학교의 시설의 설치ㆍ이전 및...  \n",
       "2  제1조(목적) 이 규칙은 공공차관의도입및관리에관한법률 및 동법시행령에서 위임된 사항...  \n",
       "3  제1조 (목적) 이 규칙은 법원조직법 제25조에 규정된 사법정책자문위원회(이하 ‘위...  \n",
       "4  제1조(목적) 이 규칙은 「연구실 안전환경 조성에 관한 법률」 및 같은 법 시행령에...  "
      ]
     },
     "execution_count": 8,
     "metadata": {},
     "output_type": "execute_result"
    }
   ],
   "source": [
    "result.head()"
   ]
  },
  {
   "cell_type": "markdown",
   "metadata": {},
   "source": [
    "### 조 별로 나누어서 나이 찾기"
   ]
  },
  {
   "cell_type": "markdown",
   "metadata": {},
   "source": [
    "#### title strip"
   ]
  },
  {
   "cell_type": "code",
   "execution_count": 9,
   "metadata": {},
   "outputs": [],
   "source": [
    "result['title'] = result['title'].apply(lambda x : x.strip() )"
   ]
  },
  {
   "cell_type": "code",
   "execution_count": 10,
   "metadata": {},
   "outputs": [],
   "source": [
    "# index reset\n",
    "result = result.reset_index(drop=True)"
   ]
  },
  {
   "cell_type": "code",
   "execution_count": 11,
   "metadata": {},
   "outputs": [
    {
     "data": {
      "text/html": [
       "<div>\n",
       "<style scoped>\n",
       "    .dataframe tbody tr th:only-of-type {\n",
       "        vertical-align: middle;\n",
       "    }\n",
       "\n",
       "    .dataframe tbody tr th {\n",
       "        vertical-align: top;\n",
       "    }\n",
       "\n",
       "    .dataframe thead th {\n",
       "        text-align: right;\n",
       "    }\n",
       "</style>\n",
       "<table border=\"1\" class=\"dataframe\">\n",
       "  <thead>\n",
       "    <tr style=\"text-align: right;\">\n",
       "      <th></th>\n",
       "      <th>title</th>\n",
       "      <th>contents</th>\n",
       "    </tr>\n",
       "  </thead>\n",
       "  <tbody>\n",
       "    <tr>\n",
       "      <th>0</th>\n",
       "      <td>정부조직법</td>\n",
       "      <td>제1조(목적)  이 법은 국가행정사무의 체계적이고 능률적인 수행을 위하여 국가행정기...</td>\n",
       "    </tr>\n",
       "    <tr>\n",
       "      <th>1</th>\n",
       "      <td>학교시설사업 촉진법</td>\n",
       "      <td>제1조(목적) 이 법은 초등학교ㆍ중학교ㆍ고등학교 및 특수학교의 시설의 설치ㆍ이전 및...</td>\n",
       "    </tr>\n",
       "    <tr>\n",
       "      <th>2</th>\n",
       "      <td>공공차관의도입및관리에관한법률시행규칙</td>\n",
       "      <td>제1조(목적) 이 규칙은 공공차관의도입및관리에관한법률 및 동법시행령에서 위임된 사항...</td>\n",
       "    </tr>\n",
       "    <tr>\n",
       "      <th>3</th>\n",
       "      <td>사법정책자문위원회 규칙</td>\n",
       "      <td>제1조 (목적) 이 규칙은 법원조직법 제25조에 규정된 사법정책자문위원회(이하 ‘위...</td>\n",
       "    </tr>\n",
       "    <tr>\n",
       "      <th>4</th>\n",
       "      <td>연구실 안전환경 조성에 관한 법률 시행규칙</td>\n",
       "      <td>제1조(목적) 이 규칙은 「연구실 안전환경 조성에 관한 법률」 및 같은 법 시행령에...</td>\n",
       "    </tr>\n",
       "  </tbody>\n",
       "</table>\n",
       "</div>"
      ],
      "text/plain": [
       "                     title                                           contents\n",
       "0                    정부조직법  제1조(목적)  이 법은 국가행정사무의 체계적이고 능률적인 수행을 위하여 국가행정기...\n",
       "1               학교시설사업 촉진법  제1조(목적) 이 법은 초등학교ㆍ중학교ㆍ고등학교 및 특수학교의 시설의 설치ㆍ이전 및...\n",
       "2      공공차관의도입및관리에관한법률시행규칙  제1조(목적) 이 규칙은 공공차관의도입및관리에관한법률 및 동법시행령에서 위임된 사항...\n",
       "3             사법정책자문위원회 규칙  제1조 (목적) 이 규칙은 법원조직법 제25조에 규정된 사법정책자문위원회(이하 ‘위...\n",
       "4  연구실 안전환경 조성에 관한 법률 시행규칙  제1조(목적) 이 규칙은 「연구실 안전환경 조성에 관한 법률」 및 같은 법 시행령에..."
      ]
     },
     "execution_count": 11,
     "metadata": {},
     "output_type": "execute_result"
    }
   ],
   "source": [
    "result.head()"
   ]
  },
  {
   "cell_type": "markdown",
   "metadata": {},
   "source": [
    "#### title 중복 제거"
   ]
  },
  {
   "cell_type": "code",
   "execution_count": 12,
   "metadata": {},
   "outputs": [
    {
     "data": {
      "text/html": [
       "<div>\n",
       "<style scoped>\n",
       "    .dataframe tbody tr th:only-of-type {\n",
       "        vertical-align: middle;\n",
       "    }\n",
       "\n",
       "    .dataframe tbody tr th {\n",
       "        vertical-align: top;\n",
       "    }\n",
       "\n",
       "    .dataframe thead th {\n",
       "        text-align: right;\n",
       "    }\n",
       "</style>\n",
       "<table border=\"1\" class=\"dataframe\">\n",
       "  <thead>\n",
       "    <tr style=\"text-align: right;\">\n",
       "      <th></th>\n",
       "      <th>title</th>\n",
       "      <th>contents</th>\n",
       "    </tr>\n",
       "  </thead>\n",
       "  <tbody>\n",
       "    <tr>\n",
       "      <th>0</th>\n",
       "      <td>정부조직법</td>\n",
       "      <td>제1조(목적)  이 법은 국가행정사무의 체계적이고 능률적인 수행을 위하여 국가행정기...</td>\n",
       "    </tr>\n",
       "    <tr>\n",
       "      <th>1</th>\n",
       "      <td>학교시설사업 촉진법</td>\n",
       "      <td>제1조(목적) 이 법은 초등학교ㆍ중학교ㆍ고등학교 및 특수학교의 시설의 설치ㆍ이전 및...</td>\n",
       "    </tr>\n",
       "    <tr>\n",
       "      <th>2</th>\n",
       "      <td>공공차관의도입및관리에관한법률시행규칙</td>\n",
       "      <td>제1조(목적) 이 규칙은 공공차관의도입및관리에관한법률 및 동법시행령에서 위임된 사항...</td>\n",
       "    </tr>\n",
       "    <tr>\n",
       "      <th>3</th>\n",
       "      <td>사법정책자문위원회 규칙</td>\n",
       "      <td>제1조 (목적) 이 규칙은 법원조직법 제25조에 규정된 사법정책자문위원회(이하 ‘위...</td>\n",
       "    </tr>\n",
       "    <tr>\n",
       "      <th>4</th>\n",
       "      <td>연구실 안전환경 조성에 관한 법률 시행규칙</td>\n",
       "      <td>제1조(목적) 이 규칙은 「연구실 안전환경 조성에 관한 법률」 및 같은 법 시행령에...</td>\n",
       "    </tr>\n",
       "    <tr>\n",
       "      <th>...</th>\n",
       "      <td>...</td>\n",
       "      <td>...</td>\n",
       "    </tr>\n",
       "    <tr>\n",
       "      <th>5644</th>\n",
       "      <td>교육환경 보호에 관한 법률 시행령</td>\n",
       "      <td>제1조(목적) 이 영은 「교육환경 보호에 관한 법률」에서 위임된 사항과 그 시행에 ...</td>\n",
       "    </tr>\n",
       "    <tr>\n",
       "      <th>5645</th>\n",
       "      <td>과학기술정보통신부와 그 소속기관 직제</td>\n",
       "      <td>제1조(목적)  이 영은 과학기술정보통신부와 그 소속기관의 조직과 직무범위, 그 밖...</td>\n",
       "    </tr>\n",
       "    <tr>\n",
       "      <th>5646</th>\n",
       "      <td>주식ㆍ사채 등의 전자등록에 관한 법률 시행령</td>\n",
       "      <td>제1조(목적) 이 영은 「주식ㆍ사채 등의 전자등록에 관한 법률」에서 위임된 사항과 ...</td>\n",
       "    </tr>\n",
       "    <tr>\n",
       "      <th>5647</th>\n",
       "      <td>휴직법관에 대한 보수지급에 관한 규칙</td>\n",
       "      <td>제1조(목적 및 적용범위) 이 규칙은 「법원조직법」 제51조제2항의 규정에 의한 휴...</td>\n",
       "    </tr>\n",
       "    <tr>\n",
       "      <th>5648</th>\n",
       "      <td>국립생태원 건립위원회 규정</td>\n",
       "      <td>제1조 (목적) 기후변화를 연구ㆍ교육하고 멸종위기 생물종을 보전하는 기능을 주로 수...</td>\n",
       "    </tr>\n",
       "  </tbody>\n",
       "</table>\n",
       "<p>5058 rows × 2 columns</p>\n",
       "</div>"
      ],
      "text/plain": [
       "                         title  \\\n",
       "0                        정부조직법   \n",
       "1                   학교시설사업 촉진법   \n",
       "2          공공차관의도입및관리에관한법률시행규칙   \n",
       "3                 사법정책자문위원회 규칙   \n",
       "4      연구실 안전환경 조성에 관한 법률 시행규칙   \n",
       "...                        ...   \n",
       "5644        교육환경 보호에 관한 법률 시행령   \n",
       "5645      과학기술정보통신부와 그 소속기관 직제   \n",
       "5646  주식ㆍ사채 등의 전자등록에 관한 법률 시행령   \n",
       "5647      휴직법관에 대한 보수지급에 관한 규칙   \n",
       "5648            국립생태원 건립위원회 규정   \n",
       "\n",
       "                                               contents  \n",
       "0     제1조(목적)  이 법은 국가행정사무의 체계적이고 능률적인 수행을 위하여 국가행정기...  \n",
       "1     제1조(목적) 이 법은 초등학교ㆍ중학교ㆍ고등학교 및 특수학교의 시설의 설치ㆍ이전 및...  \n",
       "2     제1조(목적) 이 규칙은 공공차관의도입및관리에관한법률 및 동법시행령에서 위임된 사항...  \n",
       "3     제1조 (목적) 이 규칙은 법원조직법 제25조에 규정된 사법정책자문위원회(이하 ‘위...  \n",
       "4     제1조(목적) 이 규칙은 「연구실 안전환경 조성에 관한 법률」 및 같은 법 시행령에...  \n",
       "...                                                 ...  \n",
       "5644  제1조(목적) 이 영은 「교육환경 보호에 관한 법률」에서 위임된 사항과 그 시행에 ...  \n",
       "5645  제1조(목적)  이 영은 과학기술정보통신부와 그 소속기관의 조직과 직무범위, 그 밖...  \n",
       "5646  제1조(목적) 이 영은 「주식ㆍ사채 등의 전자등록에 관한 법률」에서 위임된 사항과 ...  \n",
       "5647  제1조(목적 및 적용범위) 이 규칙은 「법원조직법」 제51조제2항의 규정에 의한 휴...  \n",
       "5648  제1조 (목적) 기후변화를 연구ㆍ교육하고 멸종위기 생물종을 보전하는 기능을 주로 수...  \n",
       "\n",
       "[5058 rows x 2 columns]"
      ]
     },
     "execution_count": 12,
     "metadata": {},
     "output_type": "execute_result"
    }
   ],
   "source": [
    "result = result.drop_duplicates(subset='title')\n",
    "result"
   ]
  },
  {
   "cell_type": "code",
   "execution_count": 13,
   "metadata": {},
   "outputs": [
    {
     "data": {
      "text/html": [
       "<div>\n",
       "<style scoped>\n",
       "    .dataframe tbody tr th:only-of-type {\n",
       "        vertical-align: middle;\n",
       "    }\n",
       "\n",
       "    .dataframe tbody tr th {\n",
       "        vertical-align: top;\n",
       "    }\n",
       "\n",
       "    .dataframe thead th {\n",
       "        text-align: right;\n",
       "    }\n",
       "</style>\n",
       "<table border=\"1\" class=\"dataframe\">\n",
       "  <thead>\n",
       "    <tr style=\"text-align: right;\">\n",
       "      <th></th>\n",
       "      <th>contents</th>\n",
       "    </tr>\n",
       "    <tr>\n",
       "      <th>title</th>\n",
       "      <th></th>\n",
       "    </tr>\n",
       "  </thead>\n",
       "  <tbody>\n",
       "    <tr>\n",
       "      <th>정부조직법</th>\n",
       "      <td>제1조(목적)  이 법은 국가행정사무의 체계적이고 능률적인 수행을 위하여 국가행정기...</td>\n",
       "    </tr>\n",
       "    <tr>\n",
       "      <th>학교시설사업 촉진법</th>\n",
       "      <td>제1조(목적) 이 법은 초등학교ㆍ중학교ㆍ고등학교 및 특수학교의 시설의 설치ㆍ이전 및...</td>\n",
       "    </tr>\n",
       "    <tr>\n",
       "      <th>공공차관의도입및관리에관한법률시행규칙</th>\n",
       "      <td>제1조(목적) 이 규칙은 공공차관의도입및관리에관한법률 및 동법시행령에서 위임된 사항...</td>\n",
       "    </tr>\n",
       "    <tr>\n",
       "      <th>사법정책자문위원회 규칙</th>\n",
       "      <td>제1조 (목적) 이 규칙은 법원조직법 제25조에 규정된 사법정책자문위원회(이하 ‘위...</td>\n",
       "    </tr>\n",
       "    <tr>\n",
       "      <th>연구실 안전환경 조성에 관한 법률 시행규칙</th>\n",
       "      <td>제1조(목적) 이 규칙은 「연구실 안전환경 조성에 관한 법률」 및 같은 법 시행령에...</td>\n",
       "    </tr>\n",
       "  </tbody>\n",
       "</table>\n",
       "</div>"
      ],
      "text/plain": [
       "                                                                  contents\n",
       "title                                                                     \n",
       "정부조직법                    제1조(목적)  이 법은 국가행정사무의 체계적이고 능률적인 수행을 위하여 국가행정기...\n",
       "학교시설사업 촉진법               제1조(목적) 이 법은 초등학교ㆍ중학교ㆍ고등학교 및 특수학교의 시설의 설치ㆍ이전 및...\n",
       "공공차관의도입및관리에관한법률시행규칙      제1조(목적) 이 규칙은 공공차관의도입및관리에관한법률 및 동법시행령에서 위임된 사항...\n",
       "사법정책자문위원회 규칙             제1조 (목적) 이 규칙은 법원조직법 제25조에 규정된 사법정책자문위원회(이하 ‘위...\n",
       "연구실 안전환경 조성에 관한 법률 시행규칙  제1조(목적) 이 규칙은 「연구실 안전환경 조성에 관한 법률」 및 같은 법 시행령에..."
      ]
     },
     "execution_count": 13,
     "metadata": {},
     "output_type": "execute_result"
    }
   ],
   "source": [
    "result = result.set_index('title')\n",
    "result.head()"
   ]
  },
  {
   "cell_type": "raw",
   "metadata": {},
   "source": [
    "def find_age_regex(d):\n",
    "    string_pool = d['contents']\n",
    "    l = re.findall(r'[만]*[\\s]*[0-9]+[\\s]*세[^가-힇()][\\s]*[이]?[상하전후내외]?[미]?[만]?[초]?[과]?', string_pool)\n",
    "    return [i.strip() for i in l]\n",
    "result['age'] = result.fillna('').apply(find_age_regex, axis=1)"
   ]
  },
  {
   "cell_type": "code",
   "execution_count": 14,
   "metadata": {},
   "outputs": [
    {
     "data": {
      "text/html": [
       "<div>\n",
       "<style scoped>\n",
       "    .dataframe tbody tr th:only-of-type {\n",
       "        vertical-align: middle;\n",
       "    }\n",
       "\n",
       "    .dataframe tbody tr th {\n",
       "        vertical-align: top;\n",
       "    }\n",
       "\n",
       "    .dataframe thead th {\n",
       "        text-align: right;\n",
       "    }\n",
       "</style>\n",
       "<table border=\"1\" class=\"dataframe\">\n",
       "  <thead>\n",
       "    <tr style=\"text-align: right;\">\n",
       "      <th></th>\n",
       "      <th>contents</th>\n",
       "    </tr>\n",
       "  </thead>\n",
       "  <tbody>\n",
       "    <tr>\n",
       "      <th>count</th>\n",
       "      <td>5033</td>\n",
       "    </tr>\n",
       "    <tr>\n",
       "      <th>unique</th>\n",
       "      <td>5033</td>\n",
       "    </tr>\n",
       "    <tr>\n",
       "      <th>top</th>\n",
       "      <td>제1조(목적) 이 영은 「자연공원법」에서 위임된 사항과 그 시행에 관하여 필요한 사...</td>\n",
       "    </tr>\n",
       "    <tr>\n",
       "      <th>freq</th>\n",
       "      <td>1</td>\n",
       "    </tr>\n",
       "  </tbody>\n",
       "</table>\n",
       "</div>"
      ],
      "text/plain": [
       "                                                 contents\n",
       "count                                                5033\n",
       "unique                                               5033\n",
       "top     제1조(목적) 이 영은 「자연공원법」에서 위임된 사항과 그 시행에 관하여 필요한 사...\n",
       "freq                                                    1"
      ]
     },
     "execution_count": 14,
     "metadata": {},
     "output_type": "execute_result"
    }
   ],
   "source": [
    "result.describe()"
   ]
  },
  {
   "cell_type": "code",
   "execution_count": 15,
   "metadata": {},
   "outputs": [
    {
     "data": {
      "text/plain": [
       "contents    25\n",
       "dtype: int64"
      ]
     },
     "execution_count": 15,
     "metadata": {},
     "output_type": "execute_result"
    }
   ],
   "source": [
    "result.isnull().sum()"
   ]
  },
  {
   "cell_type": "code",
   "execution_count": 16,
   "metadata": {},
   "outputs": [],
   "source": [
    "result = result.dropna() # 결측치 제거"
   ]
  },
  {
   "cell_type": "code",
   "execution_count": 17,
   "metadata": {},
   "outputs": [
    {
     "data": {
      "text/plain": [
       "5033"
      ]
     },
     "execution_count": 17,
     "metadata": {},
     "output_type": "execute_result"
    }
   ],
   "source": [
    "len(result)"
   ]
  },
  {
   "cell_type": "markdown",
   "metadata": {},
   "source": [
    "#### 나이 후보군 찾기"
   ]
  },
  {
   "cell_type": "code",
   "execution_count": 18,
   "metadata": {},
   "outputs": [
    {
     "data": {
      "application/vnd.jupyter.widget-view+json": {
       "model_id": "8a3148d940b040b9b5168fd1b34a6510",
       "version_major": 2,
       "version_minor": 0
      },
      "text/plain": [
       "HBox(children=(HTML(value=''), FloatProgress(value=0.0, max=5033.0), HTML(value='')))"
      ]
     },
     "metadata": {},
     "output_type": "display_data"
    },
    {
     "name": "stdout",
     "output_type": "stream",
     "text": [
      "\n"
     ]
    }
   ],
   "source": [
    "result_df = pd.DataFrame()\n",
    "cnt = 0\n",
    "for law in tqdm(result.index): # 법령명 하나의\n",
    "    for text in result.loc[law]['contents'].split('.'): # 문장 . 으로 분리 후\n",
    "        \n",
    "        age_find = re.findall(r'[만]*[\\s]*[0-9]+[\\s]*세[^대환제트관임월][\\s]*[이]?[상하전후내외]?[미]?[만]?[초]?[과]?[까]?[지]?[부]?[터]?', text)\n",
    "        jo_text = re.findall(r'제[0-9]+조[의]?[0-9]?\\([가-힇\\s]+\\)', text)\n",
    "        if jo_text!=[]:\n",
    "            cur_jo_text = jo_text\n",
    "        if age_find:\n",
    "            \n",
    "            if jo_text: # 같은 조에 속할때\n",
    "                title = law\n",
    "                jo_title = cur_jo_text[0]\n",
    "                \n",
    "                age_list = [re.sub('[^0-9만세이상하전후내외미만초과까지부터]+', '', i) for i in age_find] # 한 줄 안에 여러 나이가 있을때\n",
    "                jo_contents = re.sub('[\\[\\]\\>]', '', text) \n",
    "                result_df = result_df.append({\n",
    "                    'title':title,\n",
    "                    'jo_title':jo_title,\n",
    "                    'jo_contents': jo_contents,\n",
    "                    'age_list': age_list\n",
    "                }, ignore_index=True)\n",
    "            else: # 조 안에서 여러 줄로 나누어 져 있을때\n",
    "                jo_title = cur_jo_text[0]\n",
    "                jo_contents = re.sub('[\\[\\]\\>]', '', text) \n",
    "                title = law\n",
    "                age_list = [re.sub('[^A-Za-z0-9가-힣]', '', i) for i in age_find] # 한 줄 안에 여러 나이가 있을때\n",
    "                result_df = result_df.append({\n",
    "                    'title':title,\n",
    "                    'jo_title':jo_title,\n",
    "                    'jo_contents': jo_contents,\n",
    "                    'age_list': age_list\n",
    "                }, ignore_index=True)\n"
   ]
  },
  {
   "cell_type": "code",
   "execution_count": 19,
   "metadata": {},
   "outputs": [
    {
     "data": {
      "text/html": [
       "<div>\n",
       "<style scoped>\n",
       "    .dataframe tbody tr th:only-of-type {\n",
       "        vertical-align: middle;\n",
       "    }\n",
       "\n",
       "    .dataframe tbody tr th {\n",
       "        vertical-align: top;\n",
       "    }\n",
       "\n",
       "    .dataframe thead th {\n",
       "        text-align: right;\n",
       "    }\n",
       "</style>\n",
       "<table border=\"1\" class=\"dataframe\">\n",
       "  <thead>\n",
       "    <tr style=\"text-align: right;\">\n",
       "      <th></th>\n",
       "      <th>age_list</th>\n",
       "      <th>jo_contents</th>\n",
       "      <th>jo_title</th>\n",
       "      <th>title</th>\n",
       "    </tr>\n",
       "  </thead>\n",
       "  <tbody>\n",
       "    <tr>\n",
       "      <th>0</th>\n",
       "      <td>[13세이상]</td>\n",
       "      <td>제18조의2(자의 의견의 청취) 가정법원이 미성년자인 자의 친권자 지정, 양육과 ...</td>\n",
       "      <td>제18조의2(자의 의견의 청취)</td>\n",
       "      <td>가사소송규칙</td>\n",
       "    </tr>\n",
       "    <tr>\n",
       "      <th>1</th>\n",
       "      <td>[13세이상]</td>\n",
       "      <td>제59조의2(관계자의 의견의 청취) ① 가정법원은 「민법」 제781조제5항의 규정...</td>\n",
       "      <td>제59조의2(관계자의 의견의 청취)</td>\n",
       "      <td>가사소송규칙</td>\n",
       "    </tr>\n",
       "    <tr>\n",
       "      <th>2</th>\n",
       "      <td>[13세이상]</td>\n",
       "      <td>② 가정법원은「민법」 제781조제6항의 규정에 의한 자의 성과 본의 변경허가 청...</td>\n",
       "      <td>제59조의2(관계자의 의견의 청취)</td>\n",
       "      <td>가사소송규칙</td>\n",
       "    </tr>\n",
       "    <tr>\n",
       "      <th>3</th>\n",
       "      <td>[13세이상]</td>\n",
       "      <td>제62조의3(관계자의 의견의 청취) ① 가정법원은 친양자 입양에 관한 심판을 하기...</td>\n",
       "      <td>제62조의3(관계자의 의견의 청취)</td>\n",
       "      <td>가사소송규칙</td>\n",
       "    </tr>\n",
       "    <tr>\n",
       "      <th>4</th>\n",
       "      <td>[13세이상]</td>\n",
       "      <td>④ 가정법원은 미성년후견인ㆍ미성년후견감독인의 선임과 변경 심판을 하는 경우 그 ...</td>\n",
       "      <td>제64조(친권행사방법의 결정)</td>\n",
       "      <td>가사소송규칙</td>\n",
       "    </tr>\n",
       "    <tr>\n",
       "      <th>...</th>\n",
       "      <td>...</td>\n",
       "      <td>...</td>\n",
       "      <td>...</td>\n",
       "      <td>...</td>\n",
       "    </tr>\n",
       "    <tr>\n",
       "      <th>1384</th>\n",
       "      <td>[65세이상]</td>\n",
       "      <td>제19조(경로우대시설의 종류 등) ①법 제26조제1항의 규정에 의하여 65세이상의...</td>\n",
       "      <td>제19조(경로우대시설의 종류 등)</td>\n",
       "      <td>노인복지법 시행령</td>\n",
       "    </tr>\n",
       "    <tr>\n",
       "      <th>1385</th>\n",
       "      <td>[65세이상]</td>\n",
       "      <td>②65세이상의 자가 경로우대시설의 이용요금을 할인하여 이용하고자 하는 때에는 당...</td>\n",
       "      <td>제19조(경로우대시설의 종류 등)</td>\n",
       "      <td>노인복지법 시행령</td>\n",
       "    </tr>\n",
       "    <tr>\n",
       "      <th>1386</th>\n",
       "      <td>[19세미만]</td>\n",
       "      <td>학교폭력 등 소년범죄: 소년(19세 미만인 사람을 말한다</td>\n",
       "      <td>제3조(수사 관련 자치경찰사무의 범위 등)</td>\n",
       "      <td>자치경찰사무와 시ㆍ도자치경찰위원회의 조직 및 운영 등에 관한 규정</td>\n",
       "    </tr>\n",
       "    <tr>\n",
       "      <th>1387</th>\n",
       "      <td>[19세이상]</td>\n",
       "      <td>다만, 그 소년이 해당 사건에서 19세 이상인 사람과 「형법」 제30조부터 제32...</td>\n",
       "      <td>제3조(수사 관련 자치경찰사무의 범위 등)</td>\n",
       "      <td>자치경찰사무와 시ㆍ도자치경찰위원회의 조직 및 운영 등에 관한 규정</td>\n",
       "    </tr>\n",
       "    <tr>\n",
       "      <th>1388</th>\n",
       "      <td>[65세이상]</td>\n",
       "      <td>65세 이상인 사람    나</td>\n",
       "      <td>제9조(우선심사의 대상)</td>\n",
       "      <td>특허법 시행령</td>\n",
       "    </tr>\n",
       "  </tbody>\n",
       "</table>\n",
       "<p>1389 rows × 4 columns</p>\n",
       "</div>"
      ],
      "text/plain": [
       "     age_list                                        jo_contents  \\\n",
       "0     [13세이상]   제18조의2(자의 의견의 청취) 가정법원이 미성년자인 자의 친권자 지정, 양육과 ...   \n",
       "1     [13세이상]   제59조의2(관계자의 의견의 청취) ① 가정법원은 「민법」 제781조제5항의 규정...   \n",
       "2     [13세이상]    ② 가정법원은「민법」 제781조제6항의 규정에 의한 자의 성과 본의 변경허가 청...   \n",
       "3     [13세이상]   제62조의3(관계자의 의견의 청취) ① 가정법원은 친양자 입양에 관한 심판을 하기...   \n",
       "4     [13세이상]    ④ 가정법원은 미성년후견인ㆍ미성년후견감독인의 선임과 변경 심판을 하는 경우 그 ...   \n",
       "...       ...                                                ...   \n",
       "1384  [65세이상]   제19조(경로우대시설의 종류 등) ①법 제26조제1항의 규정에 의하여 65세이상의...   \n",
       "1385  [65세이상]    ②65세이상의 자가 경로우대시설의 이용요금을 할인하여 이용하고자 하는 때에는 당...   \n",
       "1386  [19세미만]                    학교폭력 등 소년범죄: 소년(19세 미만인 사람을 말한다   \n",
       "1387  [19세이상]   다만, 그 소년이 해당 사건에서 19세 이상인 사람과 「형법」 제30조부터 제32...   \n",
       "1388  [65세이상]                                    65세 이상인 사람    나   \n",
       "\n",
       "                     jo_title                                 title  \n",
       "0           제18조의2(자의 의견의 청취)                                가사소송규칙  \n",
       "1         제59조의2(관계자의 의견의 청취)                                가사소송규칙  \n",
       "2         제59조의2(관계자의 의견의 청취)                                가사소송규칙  \n",
       "3         제62조의3(관계자의 의견의 청취)                                가사소송규칙  \n",
       "4            제64조(친권행사방법의 결정)                                가사소송규칙  \n",
       "...                       ...                                   ...  \n",
       "1384       제19조(경로우대시설의 종류 등)                             노인복지법 시행령  \n",
       "1385       제19조(경로우대시설의 종류 등)                             노인복지법 시행령  \n",
       "1386  제3조(수사 관련 자치경찰사무의 범위 등)  자치경찰사무와 시ㆍ도자치경찰위원회의 조직 및 운영 등에 관한 규정  \n",
       "1387  제3조(수사 관련 자치경찰사무의 범위 등)  자치경찰사무와 시ㆍ도자치경찰위원회의 조직 및 운영 등에 관한 규정  \n",
       "1388            제9조(우선심사의 대상)                               특허법 시행령  \n",
       "\n",
       "[1389 rows x 4 columns]"
      ]
     },
     "execution_count": 19,
     "metadata": {},
     "output_type": "execute_result"
    }
   ],
   "source": [
    "result_df"
   ]
  },
  {
   "cell_type": "code",
   "execution_count": 20,
   "metadata": {},
   "outputs": [
    {
     "data": {
      "text/html": [
       "<div>\n",
       "<style scoped>\n",
       "    .dataframe tbody tr th:only-of-type {\n",
       "        vertical-align: middle;\n",
       "    }\n",
       "\n",
       "    .dataframe tbody tr th {\n",
       "        vertical-align: top;\n",
       "    }\n",
       "\n",
       "    .dataframe thead th {\n",
       "        text-align: right;\n",
       "    }\n",
       "</style>\n",
       "<table border=\"1\" class=\"dataframe\">\n",
       "  <thead>\n",
       "    <tr style=\"text-align: right;\">\n",
       "      <th></th>\n",
       "      <th>age_list</th>\n",
       "      <th>jo_contents</th>\n",
       "      <th>jo_title</th>\n",
       "      <th>title</th>\n",
       "    </tr>\n",
       "  </thead>\n",
       "  <tbody>\n",
       "    <tr>\n",
       "      <th>count</th>\n",
       "      <td>1389</td>\n",
       "      <td>1389</td>\n",
       "      <td>1389</td>\n",
       "      <td>1389</td>\n",
       "    </tr>\n",
       "    <tr>\n",
       "      <th>unique</th>\n",
       "      <td>421</td>\n",
       "      <td>1333</td>\n",
       "      <td>892</td>\n",
       "      <td>458</td>\n",
       "    </tr>\n",
       "    <tr>\n",
       "      <th>top</th>\n",
       "      <td>[65세이상]</td>\n",
       "      <td>19세 미만인 사람  2</td>\n",
       "      <td>제2조(정의)</td>\n",
       "      <td>병역법 시행령</td>\n",
       "    </tr>\n",
       "    <tr>\n",
       "      <th>freq</th>\n",
       "      <td>81</td>\n",
       "      <td>5</td>\n",
       "      <td>49</td>\n",
       "      <td>47</td>\n",
       "    </tr>\n",
       "  </tbody>\n",
       "</table>\n",
       "</div>"
      ],
      "text/plain": [
       "       age_list     jo_contents jo_title    title\n",
       "count      1389            1389     1389     1389\n",
       "unique      421            1333      892      458\n",
       "top     [65세이상]   19세 미만인 사람  2  제2조(정의)  병역법 시행령\n",
       "freq         81               5       49       47"
      ]
     },
     "execution_count": 20,
     "metadata": {},
     "output_type": "execute_result"
    }
   ],
   "source": [
    "result_df.describe()"
   ]
  },
  {
   "cell_type": "code",
   "execution_count": 21,
   "metadata": {},
   "outputs": [],
   "source": [
    "def clean_item(d):\n",
    "    d = d['age_list']\n",
    "    \n",
    "    return [re.sub('[가의를인에로]+', '', i) for i in d]"
   ]
  },
  {
   "cell_type": "code",
   "execution_count": 22,
   "metadata": {},
   "outputs": [],
   "source": [
    "result_df['age_list'] = result_df.apply(clean_item, axis=1)"
   ]
  },
  {
   "cell_type": "code",
   "execution_count": 29,
   "metadata": {},
   "outputs": [
    {
     "data": {
      "text/html": [
       "<div>\n",
       "<style scoped>\n",
       "    .dataframe tbody tr th:only-of-type {\n",
       "        vertical-align: middle;\n",
       "    }\n",
       "\n",
       "    .dataframe tbody tr th {\n",
       "        vertical-align: top;\n",
       "    }\n",
       "\n",
       "    .dataframe thead th {\n",
       "        text-align: right;\n",
       "    }\n",
       "</style>\n",
       "<table border=\"1\" class=\"dataframe\">\n",
       "  <thead>\n",
       "    <tr style=\"text-align: right;\">\n",
       "      <th></th>\n",
       "      <th>age_list</th>\n",
       "      <th>jo_contents</th>\n",
       "      <th>jo_title</th>\n",
       "      <th>title</th>\n",
       "    </tr>\n",
       "  </thead>\n",
       "  <tbody>\n",
       "    <tr>\n",
       "      <th>111</th>\n",
       "      <td>[20세이상]</td>\n",
       "      <td>법 제28조제2항제10호: 별표 2의 근무ㆍ연구 경력기준 제8조(응시연령) 전문경...</td>\n",
       "      <td>제8조(응시연령)</td>\n",
       "      <td>전문경력관 규칙</td>\n",
       "    </tr>\n",
       "    <tr>\n",
       "      <th>174</th>\n",
       "      <td>[65세이상]</td>\n",
       "      <td>②국가 또는 지방자치단체는 노인의 일상생활에 관련된 사업을 경영하는 자에게 65...</td>\n",
       "      <td>제26조(경로우대)</td>\n",
       "      <td>노인복지법</td>\n",
       "    </tr>\n",
       "    <tr>\n",
       "      <th>1228</th>\n",
       "      <td>[51세, 52세, 56세, 57세]</td>\n",
       "      <td>중령       1) 제1차 재임용 심사 대상 연령: 51세에서 52세 사이   ...</td>\n",
       "      <td>제8조(현역정년)</td>\n",
       "      <td>군인사법</td>\n",
       "    </tr>\n",
       "    <tr>\n",
       "      <th>9</th>\n",
       "      <td>[18세이상]</td>\n",
       "      <td>개인 : 18세 이상으로서 「국가공무원법」 제33조 각 호의 어느 하나에 해당하지...</td>\n",
       "      <td>제4조(우편업무의 일부를 수탁할 수 있는 자의 자격)</td>\n",
       "      <td>우편법 시행규칙</td>\n",
       "    </tr>\n",
       "    <tr>\n",
       "      <th>291</th>\n",
       "      <td>[50세이상]</td>\n",
       "      <td>제86조의4(연금계좌세액공제 등)  종합소득이 있으며, 해당 과세기간에 「소득세법...</td>\n",
       "      <td>제86조의4(연금계좌세액공제 등)</td>\n",
       "      <td>조세특례제한법</td>\n",
       "    </tr>\n",
       "    <tr>\n",
       "      <th>1196</th>\n",
       "      <td>[60세이상, 64세이하]</td>\n",
       "      <td>60세 이상 64세 이하인 사람은 부양의무자 또는 피부양자가 아닌 자활가능자로 본다</td>\n",
       "      <td>제130조(가사사정으로 인한 전시근로역 편입 및 대체역의 소집해제 등)</td>\n",
       "      <td>병역법 시행령</td>\n",
       "    </tr>\n",
       "    <tr>\n",
       "      <th>557</th>\n",
       "      <td>[13세이상]</td>\n",
       "      <td>이하 같다)을 간음하거나 13세 이상의 장애 아동ㆍ청소년으로 하여금 다른 사람을 ...</td>\n",
       "      <td>제5조(사회의 책임)</td>\n",
       "      <td>아동ㆍ청소년의 성보호에 관한 법률</td>\n",
       "    </tr>\n",
       "    <tr>\n",
       "      <th>899</th>\n",
       "      <td>[5세미만]</td>\n",
       "      <td>“안전용기ㆍ포장”이란 5세 미만 어린이가 열기 어렵게 설계ㆍ고안된 용기나 포장을 말한다</td>\n",
       "      <td>제2조(정의)</td>\n",
       "      <td>약사법</td>\n",
       "    </tr>\n",
       "    <tr>\n",
       "      <th>85</th>\n",
       "      <td>[19세미만]</td>\n",
       "      <td>19세 미만의 자녀ㆍ손자녀와 함께 입소하는 자  ⑦입소대상자가 계약을 체결할 수 ...</td>\n",
       "      <td>제15조(양로시설 등의 입소절차 등)</td>\n",
       "      <td>노인복지법 시행규칙</td>\n",
       "    </tr>\n",
       "    <tr>\n",
       "      <th>649</th>\n",
       "      <td>[60세이상]</td>\n",
       "      <td>이월공제받는 과세연도에 최초로 근로계약을 체결한 제1호 외의 상시근로자 중 청년근...</td>\n",
       "      <td>제174조(세액공제액의 이월공제)</td>\n",
       "      <td>지방세특례제한법</td>\n",
       "    </tr>\n",
       "  </tbody>\n",
       "</table>\n",
       "</div>"
      ],
      "text/plain": [
       "                  age_list                                        jo_contents  \\\n",
       "111                [20세이상]   법 제28조제2항제10호: 별표 2의 근무ㆍ연구 경력기준 제8조(응시연령) 전문경...   \n",
       "174                [65세이상]    ②국가 또는 지방자치단체는 노인의 일상생활에 관련된 사업을 경영하는 자에게 65...   \n",
       "1228  [51세, 52세, 56세, 57세]   중령       1) 제1차 재임용 심사 대상 연령: 51세에서 52세 사이   ...   \n",
       "9                  [18세이상]   개인 : 18세 이상으로서 「국가공무원법」 제33조 각 호의 어느 하나에 해당하지...   \n",
       "291                [50세이상]   제86조의4(연금계좌세액공제 등)  종합소득이 있으며, 해당 과세기간에 「소득세법...   \n",
       "1196        [60세이상, 64세이하]     60세 이상 64세 이하인 사람은 부양의무자 또는 피부양자가 아닌 자활가능자로 본다   \n",
       "557                [13세이상]   이하 같다)을 간음하거나 13세 이상의 장애 아동ㆍ청소년으로 하여금 다른 사람을 ...   \n",
       "899                 [5세미만]   “안전용기ㆍ포장”이란 5세 미만 어린이가 열기 어렵게 설계ㆍ고안된 용기나 포장을 말한다   \n",
       "85                 [19세미만]   19세 미만의 자녀ㆍ손자녀와 함께 입소하는 자  ⑦입소대상자가 계약을 체결할 수 ...   \n",
       "649                [60세이상]   이월공제받는 과세연도에 최초로 근로계약을 체결한 제1호 외의 상시근로자 중 청년근...   \n",
       "\n",
       "                                     jo_title               title  \n",
       "111                                 제8조(응시연령)            전문경력관 규칙  \n",
       "174                                제26조(경로우대)               노인복지법  \n",
       "1228                                제8조(현역정년)                군인사법  \n",
       "9               제4조(우편업무의 일부를 수탁할 수 있는 자의 자격)            우편법 시행규칙  \n",
       "291                        제86조의4(연금계좌세액공제 등)             조세특례제한법  \n",
       "1196  제130조(가사사정으로 인한 전시근로역 편입 및 대체역의 소집해제 등)             병역법 시행령  \n",
       "557                               제5조(사회의 책임)  아동ㆍ청소년의 성보호에 관한 법률  \n",
       "899                                   제2조(정의)                 약사법  \n",
       "85                       제15조(양로시설 등의 입소절차 등)          노인복지법 시행규칙  \n",
       "649                        제174조(세액공제액의 이월공제)            지방세특례제한법  "
      ]
     },
     "execution_count": 29,
     "metadata": {},
     "output_type": "execute_result"
    }
   ],
   "source": [
    "result_df.sample(10)"
   ]
  },
  {
   "cell_type": "code",
   "execution_count": 35,
   "metadata": {},
   "outputs": [],
   "source": [
    "result_df.to_json('data.json','records',force_ascii=False)"
   ]
  },
  {
   "cell_type": "markdown",
   "metadata": {},
   "source": [
    "단순 연령대별 시각화"
   ]
  },
  {
   "cell_type": "code",
   "execution_count": null,
   "metadata": {},
   "outputs": [],
   "source": []
  }
 ],
 "metadata": {
  "kernelspec": {
   "display_name": "Python 3",
   "language": "python",
   "name": "python3"
  },
  "language_info": {
   "codemirror_mode": {
    "name": "ipython",
    "version": 3
   },
   "file_extension": ".py",
   "mimetype": "text/x-python",
   "name": "python",
   "nbconvert_exporter": "python",
   "pygments_lexer": "ipython3",
   "version": "3.7.6"
  }
 },
 "nbformat": 4,
 "nbformat_minor": 4
}
